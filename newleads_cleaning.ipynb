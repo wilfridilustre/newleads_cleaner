{
 "cells": [
  {
   "cell_type": "code",
   "execution_count": 34,
   "id": "90f2dec1-b3b1-49f0-9d84-1d10c939516c",
   "metadata": {
    "tags": []
   },
   "outputs": [],
   "source": [
    "import numpy as np\n",
    "import pandas as pd\n",
    "import chardet\n",
    "import datetime\n",
    "from datetime import timedelta\n",
    "import os\n",
    "from pathlib import Path"
   ]
  },
  {
   "cell_type": "markdown",
   "metadata": {},
   "source": [
    "## Read File"
   ]
  },
  {
   "cell_type": "code",
   "execution_count": 35,
   "id": "ec984fa0-aa02-4858-b925-1be9e486a9ca",
   "metadata": {
    "tags": []
   },
   "outputs": [],
   "source": [
    "# Detect the encoding of the file\n",
    "with open('newleads.csv', 'rb') as f:\n",
    "    result = chardet.detect(f.read())\n",
    "\n",
    "# Read the file using the detected encoding\n",
    "df = pd.read_csv('newleads.csv', encoding=result['encoding'])"
   ]
  },
  {
   "cell_type": "code",
   "execution_count": 36,
   "id": "96300380-8d8a-4d0d-a29f-3afc0974cd1a",
   "metadata": {
    "metadata": {},
    "tags": []
   },
   "outputs": [
    {
     "data": {
      "text/html": [
       "<div>\n",
       "<style scoped>\n",
       "    .dataframe tbody tr th:only-of-type {\n",
       "        vertical-align: middle;\n",
       "    }\n",
       "\n",
       "    .dataframe tbody tr th {\n",
       "        vertical-align: top;\n",
       "    }\n",
       "\n",
       "    .dataframe thead th {\n",
       "        text-align: right;\n",
       "    }\n",
       "</style>\n",
       "<table border=\"1\" class=\"dataframe\">\n",
       "  <thead>\n",
       "    <tr style=\"text-align: right;\">\n",
       "      <th></th>\n",
       "      <th>ApplicantId</th>\n",
       "      <th>Filed As</th>\n",
       "      <th>Status</th>\n",
       "      <th>CreatedOn</th>\n",
       "      <th>Source</th>\n",
       "      <th>Feedback Score</th>\n",
       "      <th>Country</th>\n",
       "      <th>Registration #</th>\n",
       "      <th>Registration Type</th>\n",
       "      <th>Registration Expiry</th>\n",
       "      <th>Employment Preference Attributes</th>\n",
       "      <th>Specialty</th>\n",
       "      <th>Seniority</th>\n",
       "      <th>Primary Consultant</th>\n",
       "      <th>Primary Email</th>\n",
       "    </tr>\n",
       "  </thead>\n",
       "  <tbody>\n",
       "    <tr>\n",
       "      <th>0</th>\n",
       "      <td>223002</td>\n",
       "      <td>Hannah  Mccleave</td>\n",
       "      <td>New Lead</td>\n",
       "      <td>18/07/2024 23:48</td>\n",
       "      <td>Organic Search</td>\n",
       "      <td>NaN</td>\n",
       "      <td>United Kingdom</td>\n",
       "      <td>NaN</td>\n",
       "      <td>NaN</td>\n",
       "      <td>NaN</td>\n",
       "      <td>Permanent</td>\n",
       "      <td>GP Emergency, GP Anaesthetics</td>\n",
       "      <td>Consultant / Specialist</td>\n",
       "      <td>NaN</td>\n",
       "      <td>NaN</td>\n",
       "    </tr>\n",
       "    <tr>\n",
       "      <th>1</th>\n",
       "      <td>223016</td>\n",
       "      <td>Abdikadir  Dahir</td>\n",
       "      <td>New Lead</td>\n",
       "      <td>19/07/2024 18:29</td>\n",
       "      <td>Organic Search</td>\n",
       "      <td>NaN</td>\n",
       "      <td>Somalia</td>\n",
       "      <td>NaN</td>\n",
       "      <td>NaN</td>\n",
       "      <td>NaN</td>\n",
       "      <td>Permanent</td>\n",
       "      <td>Surgery - General</td>\n",
       "      <td>Consultant / Specialist</td>\n",
       "      <td>NaN</td>\n",
       "      <td>NaN</td>\n",
       "    </tr>\n",
       "    <tr>\n",
       "      <th>2</th>\n",
       "      <td>223017</td>\n",
       "      <td>Malik El Issa</td>\n",
       "      <td>New Lead</td>\n",
       "      <td>19/07/2024 22:05</td>\n",
       "      <td>Organic Search</td>\n",
       "      <td>NaN</td>\n",
       "      <td>Switzerland</td>\n",
       "      <td>NaN</td>\n",
       "      <td>NaN</td>\n",
       "      <td>NaN</td>\n",
       "      <td>Permanent, Telehealth</td>\n",
       "      <td>Radiology - General</td>\n",
       "      <td>Consultant / Specialist</td>\n",
       "      <td>NaN</td>\n",
       "      <td>NaN</td>\n",
       "    </tr>\n",
       "    <tr>\n",
       "      <th>3</th>\n",
       "      <td>223018</td>\n",
       "      <td>Isabella Baker-Whalley</td>\n",
       "      <td>New Lead</td>\n",
       "      <td>20/07/2024 19:23</td>\n",
       "      <td>Other</td>\n",
       "      <td>NaN</td>\n",
       "      <td>Australia</td>\n",
       "      <td>NaN</td>\n",
       "      <td>NaN</td>\n",
       "      <td>NaN</td>\n",
       "      <td>Permanent</td>\n",
       "      <td>Unknown</td>\n",
       "      <td>Unknown</td>\n",
       "      <td>NaN</td>\n",
       "      <td>NaN</td>\n",
       "    </tr>\n",
       "    <tr>\n",
       "      <th>4</th>\n",
       "      <td>223019</td>\n",
       "      <td>Anil  Pandey</td>\n",
       "      <td>New Lead</td>\n",
       "      <td>20/07/2024 21:36</td>\n",
       "      <td>Organic Search</td>\n",
       "      <td>NaN</td>\n",
       "      <td>Nepal</td>\n",
       "      <td>NaN</td>\n",
       "      <td>NaN</td>\n",
       "      <td>NaN</td>\n",
       "      <td>Permanent</td>\n",
       "      <td>Paeds - General</td>\n",
       "      <td>Consultant / Specialist</td>\n",
       "      <td>NaN</td>\n",
       "      <td>NaN</td>\n",
       "    </tr>\n",
       "  </tbody>\n",
       "</table>\n",
       "</div>"
      ],
      "text/plain": [
       "   ApplicantId                Filed As    Status         CreatedOn  \\\n",
       "0       223002       Hannah  Mccleave   New Lead  18/07/2024 23:48   \n",
       "1       223016        Abdikadir  Dahir  New Lead  19/07/2024 18:29   \n",
       "2       223017           Malik El Issa  New Lead  19/07/2024 22:05   \n",
       "3       223018  Isabella Baker-Whalley  New Lead  20/07/2024 19:23   \n",
       "4       223019           Anil  Pandey   New Lead  20/07/2024 21:36   \n",
       "\n",
       "           Source  Feedback Score         Country Registration #  \\\n",
       "0  Organic Search             NaN  United Kingdom            NaN   \n",
       "1  Organic Search             NaN         Somalia            NaN   \n",
       "2  Organic Search             NaN     Switzerland            NaN   \n",
       "3           Other             NaN       Australia            NaN   \n",
       "4  Organic Search             NaN           Nepal            NaN   \n",
       "\n",
       "  Registration Type Registration Expiry Employment Preference Attributes  \\\n",
       "0               NaN                 NaN                        Permanent   \n",
       "1               NaN                 NaN                        Permanent   \n",
       "2               NaN                 NaN            Permanent, Telehealth   \n",
       "3               NaN                 NaN                        Permanent   \n",
       "4               NaN                 NaN                        Permanent   \n",
       "\n",
       "                       Specialty                Seniority Primary Consultant  \\\n",
       "0  GP Emergency, GP Anaesthetics  Consultant / Specialist                NaN   \n",
       "1              Surgery - General  Consultant / Specialist                NaN   \n",
       "2            Radiology - General  Consultant / Specialist                NaN   \n",
       "3                        Unknown                  Unknown                NaN   \n",
       "4                Paeds - General  Consultant / Specialist                NaN   \n",
       "\n",
       "  Primary Email  \n",
       "0           NaN  \n",
       "1           NaN  \n",
       "2           NaN  \n",
       "3           NaN  \n",
       "4           NaN  "
      ]
     },
     "execution_count": 36,
     "metadata": {},
     "output_type": "execute_result"
    }
   ],
   "source": [
    "df.head()"
   ]
  },
  {
   "cell_type": "code",
   "execution_count": 37,
   "id": "84bb88e9-ebaf-4222-b739-731d25fd3d56",
   "metadata": {
    "metadata": {},
    "tags": []
   },
   "outputs": [
    {
     "name": "stdout",
     "output_type": "stream",
     "text": [
      "<class 'pandas.core.frame.DataFrame'>\n",
      "RangeIndex: 4347 entries, 0 to 4346\n",
      "Data columns (total 15 columns):\n",
      " #   Column                            Non-Null Count  Dtype  \n",
      "---  ------                            --------------  -----  \n",
      " 0   ApplicantId                       4347 non-null   int64  \n",
      " 1   Filed As                          4347 non-null   object \n",
      " 2   Status                            4347 non-null   object \n",
      " 3   CreatedOn                         4347 non-null   object \n",
      " 4   Source                            4347 non-null   object \n",
      " 5   Feedback Score                    0 non-null      float64\n",
      " 6   Country                           4346 non-null   object \n",
      " 7   Registration #                    987 non-null    object \n",
      " 8   Registration Type                 985 non-null    object \n",
      " 9   Registration Expiry               967 non-null    object \n",
      " 10  Employment Preference Attributes  4347 non-null   object \n",
      " 11  Specialty                         4345 non-null   object \n",
      " 12  Seniority                         4347 non-null   object \n",
      " 13  Primary Consultant                763 non-null    object \n",
      " 14  Primary Email                     4333 non-null   object \n",
      "dtypes: float64(1), int64(1), object(13)\n",
      "memory usage: 509.5+ KB\n"
     ]
    }
   ],
   "source": [
    "df.info()"
   ]
  },
  {
   "cell_type": "markdown",
   "metadata": {},
   "source": [
    "## Remove Test"
   ]
  },
  {
   "cell_type": "code",
   "execution_count": 38,
   "id": "3ff94b9f-3909-4d70-9605-4e1e9f9983e8",
   "metadata": {
    "tags": []
   },
   "outputs": [],
   "source": [
    "# Define substrings to filter\n",
    "substrings_to_remove = ['test', 'graham long', 'lizzie new' , 'Tahnee Love']\n",
    "\n",
    "# Create a boolean mask to filter rows\n",
    "mask = ~df['Filed As'].str.lower().str.contains('|'.join(substrings_to_remove), case=False)\n",
    "\n",
    "# Apply the mask to the DataFrame\n",
    "df = df[mask]"
   ]
  },
  {
   "cell_type": "code",
   "execution_count": 39,
   "id": "dd681a53-f441-418b-a3c5-1b89727aa720",
   "metadata": {
    "tags": []
   },
   "outputs": [
    {
     "name": "stdout",
     "output_type": "stream",
     "text": [
      "<class 'pandas.core.frame.DataFrame'>\n",
      "Index: 4337 entries, 0 to 4346\n",
      "Data columns (total 15 columns):\n",
      " #   Column                            Non-Null Count  Dtype  \n",
      "---  ------                            --------------  -----  \n",
      " 0   ApplicantId                       4337 non-null   int64  \n",
      " 1   Filed As                          4337 non-null   object \n",
      " 2   Status                            4337 non-null   object \n",
      " 3   CreatedOn                         4337 non-null   object \n",
      " 4   Source                            4337 non-null   object \n",
      " 5   Feedback Score                    0 non-null      float64\n",
      " 6   Country                           4336 non-null   object \n",
      " 7   Registration #                    987 non-null    object \n",
      " 8   Registration Type                 985 non-null    object \n",
      " 9   Registration Expiry               967 non-null    object \n",
      " 10  Employment Preference Attributes  4337 non-null   object \n",
      " 11  Specialty                         4335 non-null   object \n",
      " 12  Seniority                         4337 non-null   object \n",
      " 13  Primary Consultant                763 non-null    object \n",
      " 14  Primary Email                     4323 non-null   object \n",
      "dtypes: float64(1), int64(1), object(13)\n",
      "memory usage: 542.1+ KB\n"
     ]
    }
   ],
   "source": [
    "df.info()"
   ]
  },
  {
   "cell_type": "code",
   "execution_count": 40,
   "id": "a24b0974-3517-4a56-bbd3-2a6180f810c9",
   "metadata": {},
   "outputs": [],
   "source": [
    "#remove RMS\n",
    "# List of consultants to remove\n",
    "consultants_to_remove = ['Leiara Ferrett', 'Ebony Kouka', 'Alexandra Graham', 'Lisa Greaves', 'Elinor Faulkner']\n",
    "\n",
    "# Filter out rows where Primary Consultant is in the list of consultants to remove\n",
    "df = df[~df['Primary Consultant'].isin(consultants_to_remove)]\n",
    "\n",
    "# remove JB LinkedIn Connection\n",
    "df = df[df['Source'] != 'JB LinkedIn Connection']"
   ]
  },
  {
   "cell_type": "code",
   "execution_count": 41,
   "id": "33b1d5e1-b72c-4ad1-af13-9906836e38da",
   "metadata": {
    "metadata": {}
   },
   "outputs": [
    {
     "name": "stdout",
     "output_type": "stream",
     "text": [
      "<class 'pandas.core.frame.DataFrame'>\n",
      "Index: 3531 entries, 0 to 4342\n",
      "Data columns (total 15 columns):\n",
      " #   Column                            Non-Null Count  Dtype  \n",
      "---  ------                            --------------  -----  \n",
      " 0   ApplicantId                       3531 non-null   int64  \n",
      " 1   Filed As                          3531 non-null   object \n",
      " 2   Status                            3531 non-null   object \n",
      " 3   CreatedOn                         3531 non-null   object \n",
      " 4   Source                            3531 non-null   object \n",
      " 5   Feedback Score                    0 non-null      float64\n",
      " 6   Country                           3530 non-null   object \n",
      " 7   Registration #                    983 non-null    object \n",
      " 8   Registration Type                 981 non-null    object \n",
      " 9   Registration Expiry               963 non-null    object \n",
      " 10  Employment Preference Attributes  3531 non-null   object \n",
      " 11  Specialty                         3529 non-null   object \n",
      " 12  Seniority                         3531 non-null   object \n",
      " 13  Primary Consultant                630 non-null    object \n",
      " 14  Primary Email                     3517 non-null   object \n",
      "dtypes: float64(1), int64(1), object(13)\n",
      "memory usage: 441.4+ KB\n"
     ]
    }
   ],
   "source": [
    "df.info()"
   ]
  },
  {
   "cell_type": "code",
   "execution_count": 42,
   "id": "80a01919-7f05-4266-8e22-300651a304f9",
   "metadata": {
    "tags": []
   },
   "outputs": [],
   "source": [
    "# Filter condition to remove specific emails from 'Primary Email'\n",
    "condition = (df['Primary Email'].str.endswith('@wave.com.au')) & (~df['Primary Email'].isin(['unknown@wave.com.au', 'tbc@wave.com.au']))\n",
    "\n",
    "# Removing rows based on the condition\n",
    "df = df[~condition]\n",
    "\n",
    "# Dropping the 'Primary Email' column\n",
    "df = df.drop('Primary Email', axis=1)"
   ]
  },
  {
   "cell_type": "code",
   "execution_count": 43,
   "id": "20e83234-c611-42d8-8d25-73d9b8956d24",
   "metadata": {
    "tags": []
   },
   "outputs": [
    {
     "name": "stdout",
     "output_type": "stream",
     "text": [
      "<class 'pandas.core.frame.DataFrame'>\n",
      "Index: 3526 entries, 0 to 4342\n",
      "Data columns (total 14 columns):\n",
      " #   Column                            Non-Null Count  Dtype  \n",
      "---  ------                            --------------  -----  \n",
      " 0   ApplicantId                       3526 non-null   int64  \n",
      " 1   Filed As                          3526 non-null   object \n",
      " 2   Status                            3526 non-null   object \n",
      " 3   CreatedOn                         3526 non-null   object \n",
      " 4   Source                            3526 non-null   object \n",
      " 5   Feedback Score                    0 non-null      float64\n",
      " 6   Country                           3526 non-null   object \n",
      " 7   Registration #                    983 non-null    object \n",
      " 8   Registration Type                 981 non-null    object \n",
      " 9   Registration Expiry               963 non-null    object \n",
      " 10  Employment Preference Attributes  3526 non-null   object \n",
      " 11  Specialty                         3524 non-null   object \n",
      " 12  Seniority                         3526 non-null   object \n",
      " 13  Primary Consultant                628 non-null    object \n",
      "dtypes: float64(1), int64(1), object(12)\n",
      "memory usage: 413.2+ KB\n"
     ]
    }
   ],
   "source": [
    "df.info()"
   ]
  },
  {
   "cell_type": "code",
   "execution_count": 44,
   "id": "4773f40d-9a2c-4856-b8ce-cfb39f394ea1",
   "metadata": {
    "tags": []
   },
   "outputs": [],
   "source": [
    "# Create a boolean mask to filter rows\n",
    "mask = ~((df['Status'] == 'Imported') & (df['Source'].isin(['Headhunt', 'Linkedin'])))\n",
    "\n",
    "# Apply the mask to the original DataFrame 'df'\n",
    "df = df[mask]"
   ]
  },
  {
   "cell_type": "code",
   "execution_count": 45,
   "id": "de6af32f-395a-47a2-9517-8f745967647b",
   "metadata": {
    "tags": []
   },
   "outputs": [
    {
     "name": "stdout",
     "output_type": "stream",
     "text": [
      "<class 'pandas.core.frame.DataFrame'>\n",
      "Index: 3425 entries, 0 to 4342\n",
      "Data columns (total 14 columns):\n",
      " #   Column                            Non-Null Count  Dtype  \n",
      "---  ------                            --------------  -----  \n",
      " 0   ApplicantId                       3425 non-null   int64  \n",
      " 1   Filed As                          3425 non-null   object \n",
      " 2   Status                            3425 non-null   object \n",
      " 3   CreatedOn                         3425 non-null   object \n",
      " 4   Source                            3425 non-null   object \n",
      " 5   Feedback Score                    0 non-null      float64\n",
      " 6   Country                           3425 non-null   object \n",
      " 7   Registration #                    898 non-null    object \n",
      " 8   Registration Type                 896 non-null    object \n",
      " 9   Registration Expiry               878 non-null    object \n",
      " 10  Employment Preference Attributes  3425 non-null   object \n",
      " 11  Specialty                         3423 non-null   object \n",
      " 12  Seniority                         3425 non-null   object \n",
      " 13  Primary Consultant                626 non-null    object \n",
      "dtypes: float64(1), int64(1), object(12)\n",
      "memory usage: 401.4+ KB\n"
     ]
    }
   ],
   "source": [
    "df.info()"
   ]
  },
  {
   "cell_type": "markdown",
   "metadata": {},
   "source": [
    "## add week number"
   ]
  },
  {
   "cell_type": "code",
   "execution_count": 46,
   "id": "bda0f6e4-e8a8-49b0-9e73-4afcbe4a76c5",
   "metadata": {
    "tags": []
   },
   "outputs": [],
   "source": [
    "# Function to calculate the week number based on weeks ending on Sundays\n",
    "def calculate_week_monday_start(date):\n",
    "    start_date = pd.to_datetime('2023-07-01')\n",
    "    days_since_start = (date - start_date).days\n",
    "\n",
    "    # Adjusting for a Monday start\n",
    "    offset = (start_date.dayofweek - 0) % 7\n",
    "    days_since_start += offset\n",
    "\n",
    "    if days_since_start < 0:\n",
    "        return 0  # If the date is before the start date, return 0 or handle as needed\n",
    "    else:\n",
    "        if days_since_start <= 7:\n",
    "            return 1\n",
    "        else:\n",
    "            week_number = 1 + ((days_since_start - 7) // 7)  # Starting from week 2\n",
    "            return week_number\n",
    "\n",
    "# Assuming 'df' is your DataFrame and 'CreatedOn' is your date field\n",
    "df['CreatedOn'] = pd.to_datetime(df['CreatedOn'], format='%d/%m/%Y %H:%M', errors='coerce')\n",
    "\n",
    "# Apply the function to calculate the week number\n",
    "df['FY24 Week'] = df['CreatedOn'].apply(calculate_week_monday_start)"
   ]
  },
  {
   "cell_type": "code",
   "execution_count": 47,
   "id": "f321785a-ba67-4781-bd24-6d462ba1e9e3",
   "metadata": {
    "metadata": {},
    "tags": []
   },
   "outputs": [
    {
     "data": {
      "text/html": [
       "<div>\n",
       "<style scoped>\n",
       "    .dataframe tbody tr th:only-of-type {\n",
       "        vertical-align: middle;\n",
       "    }\n",
       "\n",
       "    .dataframe tbody tr th {\n",
       "        vertical-align: top;\n",
       "    }\n",
       "\n",
       "    .dataframe thead th {\n",
       "        text-align: right;\n",
       "    }\n",
       "</style>\n",
       "<table border=\"1\" class=\"dataframe\">\n",
       "  <thead>\n",
       "    <tr style=\"text-align: right;\">\n",
       "      <th></th>\n",
       "      <th>ApplicantId</th>\n",
       "      <th>Filed As</th>\n",
       "      <th>Status</th>\n",
       "      <th>CreatedOn</th>\n",
       "      <th>Source</th>\n",
       "      <th>Feedback Score</th>\n",
       "      <th>Country</th>\n",
       "      <th>Registration #</th>\n",
       "      <th>Registration Type</th>\n",
       "      <th>Registration Expiry</th>\n",
       "      <th>Employment Preference Attributes</th>\n",
       "      <th>Specialty</th>\n",
       "      <th>Seniority</th>\n",
       "      <th>Primary Consultant</th>\n",
       "      <th>FY24 Week</th>\n",
       "    </tr>\n",
       "  </thead>\n",
       "  <tbody>\n",
       "    <tr>\n",
       "      <th>1921</th>\n",
       "      <td>217008</td>\n",
       "      <td>Sajan Sawai Soothar</td>\n",
       "      <td>Transitional</td>\n",
       "      <td>2023-12-25 22:09:00</td>\n",
       "      <td>Organic Search</td>\n",
       "      <td>NaN</td>\n",
       "      <td>Pakistan</td>\n",
       "      <td>NaN</td>\n",
       "      <td>NaN</td>\n",
       "      <td>NaN</td>\n",
       "      <td>Permanent</td>\n",
       "      <td>Medicine - Gastroenterology</td>\n",
       "      <td>Consultant / Specialist</td>\n",
       "      <td>NaN</td>\n",
       "      <td>26</td>\n",
       "    </tr>\n",
       "    <tr>\n",
       "      <th>1090</th>\n",
       "      <td>215712</td>\n",
       "      <td>Georgia Hikila</td>\n",
       "      <td>Live</td>\n",
       "      <td>2023-10-24 14:57:00</td>\n",
       "      <td>Referral - Personal referral</td>\n",
       "      <td>NaN</td>\n",
       "      <td>Australia</td>\n",
       "      <td>MED0002569135</td>\n",
       "      <td>General</td>\n",
       "      <td>30/09/2024</td>\n",
       "      <td>Locum</td>\n",
       "      <td>Psych - General Adult</td>\n",
       "      <td>Resident (RMO)</td>\n",
       "      <td>Robyn Pascoe</td>\n",
       "      <td>17</td>\n",
       "    </tr>\n",
       "    <tr>\n",
       "      <th>1293</th>\n",
       "      <td>215995</td>\n",
       "      <td>Jennifer Yang</td>\n",
       "      <td>Passive</td>\n",
       "      <td>2023-11-06 12:25:00</td>\n",
       "      <td>RANZCOG ASM 2023</td>\n",
       "      <td>NaN</td>\n",
       "      <td>Australia</td>\n",
       "      <td>MED0002557395</td>\n",
       "      <td>General</td>\n",
       "      <td>30/09/2024</td>\n",
       "      <td>Locum</td>\n",
       "      <td>Obstetrics &amp; Gynaecology</td>\n",
       "      <td>Resident (RMO)</td>\n",
       "      <td>Dominic Tan</td>\n",
       "      <td>19</td>\n",
       "    </tr>\n",
       "    <tr>\n",
       "      <th>1229</th>\n",
       "      <td>215883</td>\n",
       "      <td>Aurora G</td>\n",
       "      <td>Ineligible</td>\n",
       "      <td>2023-10-30 17:01:00</td>\n",
       "      <td>WONCA 2023</td>\n",
       "      <td>NaN</td>\n",
       "      <td>Australia</td>\n",
       "      <td>NaN</td>\n",
       "      <td>NaN</td>\n",
       "      <td>NaN</td>\n",
       "      <td>Permanent</td>\n",
       "      <td>General Practice</td>\n",
       "      <td>General Practitioner</td>\n",
       "      <td>NaN</td>\n",
       "      <td>18</td>\n",
       "    </tr>\n",
       "    <tr>\n",
       "      <th>3366</th>\n",
       "      <td>220050</td>\n",
       "      <td>Mostafa  Elsawi</td>\n",
       "      <td>Ineligible</td>\n",
       "      <td>2024-03-25 17:15:00</td>\n",
       "      <td>Indeed</td>\n",
       "      <td>NaN</td>\n",
       "      <td>Sudan</td>\n",
       "      <td>NaN</td>\n",
       "      <td>NaN</td>\n",
       "      <td>NaN</td>\n",
       "      <td>Permanent</td>\n",
       "      <td>General Practice</td>\n",
       "      <td>General Practitioner</td>\n",
       "      <td>NaN</td>\n",
       "      <td>39</td>\n",
       "    </tr>\n",
       "  </tbody>\n",
       "</table>\n",
       "</div>"
      ],
      "text/plain": [
       "      ApplicantId             Filed As        Status           CreatedOn  \\\n",
       "1921       217008  Sajan Sawai Soothar  Transitional 2023-12-25 22:09:00   \n",
       "1090       215712       Georgia Hikila          Live 2023-10-24 14:57:00   \n",
       "1293       215995        Jennifer Yang       Passive 2023-11-06 12:25:00   \n",
       "1229       215883             Aurora G    Ineligible 2023-10-30 17:01:00   \n",
       "3366       220050      Mostafa  Elsawi    Ineligible 2024-03-25 17:15:00   \n",
       "\n",
       "                            Source  Feedback Score    Country Registration #  \\\n",
       "1921                Organic Search             NaN   Pakistan            NaN   \n",
       "1090  Referral - Personal referral             NaN  Australia  MED0002569135   \n",
       "1293              RANZCOG ASM 2023             NaN  Australia  MED0002557395   \n",
       "1229                    WONCA 2023             NaN  Australia            NaN   \n",
       "3366                        Indeed             NaN      Sudan            NaN   \n",
       "\n",
       "     Registration Type Registration Expiry Employment Preference Attributes  \\\n",
       "1921               NaN                 NaN                        Permanent   \n",
       "1090          General           30/09/2024                            Locum   \n",
       "1293           General          30/09/2024                            Locum   \n",
       "1229               NaN                 NaN                        Permanent   \n",
       "3366               NaN                 NaN                        Permanent   \n",
       "\n",
       "                        Specialty                Seniority Primary Consultant  \\\n",
       "1921  Medicine - Gastroenterology  Consultant / Specialist                NaN   \n",
       "1090        Psych - General Adult           Resident (RMO)       Robyn Pascoe   \n",
       "1293     Obstetrics & Gynaecology           Resident (RMO)        Dominic Tan   \n",
       "1229             General Practice     General Practitioner                NaN   \n",
       "3366             General Practice     General Practitioner                NaN   \n",
       "\n",
       "      FY24 Week  \n",
       "1921         26  \n",
       "1090         17  \n",
       "1293         19  \n",
       "1229         18  \n",
       "3366         39  "
      ]
     },
     "execution_count": 47,
     "metadata": {},
     "output_type": "execute_result"
    }
   ],
   "source": [
    "df.sample(5)"
   ]
  },
  {
   "cell_type": "markdown",
   "metadata": {},
   "source": [
    "## Map Team Allocated"
   ]
  },
  {
   "cell_type": "code",
   "execution_count": 48,
   "id": "e56c4ded-0cb5-4e9d-a8f6-de1436aa8bd1",
   "metadata": {
    "tags": []
   },
   "outputs": [],
   "source": [
    "# Create a dictionary to map 'Primary Consultant' to 'team allocated'\n",
    "team_mapping = {\n",
    "    'Tahnee Love': 'JLD',\n",
    "    'Craig Picard': 'JLD',\n",
    "    'Ben Chegwidden': 'JLD',\n",
    "    'Fiona Jackson': 'JLD',\n",
    "    'Aimee Skoyles': 'JLD',\n",
    "    'Mikaila Brooks': 'JLD',\n",
    "    'Robyn Pascoe': 'Psych',\n",
    "    'Courtney Lewis': 'Psych',\n",
    "    'Yasmin Lockey': 'Psych',\n",
    "    'Caitlin Lingard': 'HS Perm',\n",
    "    'Jennifer Salinas': 'HS Perm',\n",
    "    'Ashlea Harvey': 'HS Perm',\n",
    "    'Chloe Frost': 'HS Perm',\n",
    "    'EJ Cuaresma': 'GP Perm',\n",
    "    'Jane Stanke': 'GP Perm',\n",
    "    'Amber Derby-Davies': 'HS Locum',\n",
    "    'Jade Camilleri': 'HS Locum',\n",
    "    'Claudine Zaarour': 'HS Locum',\n",
    "    'Hannah Kearns': 'HS Locum',\n",
    "    'Eamon McCurry': 'HS Locum',\n",
    "    'Nicole Langan': 'HS Locum',\n",
    "    'Amy Beddall': 'GP Locum',\n",
    "    'Cory Robertson': 'GP Locum',\n",
    "    'Charlotte Hellmundt': 'GP Locum',\n",
    "    'Anna Mullins': 'GP Locum',\n",
    "    'Jade-Maree Camilleri': 'HS Locum',\n",
    "    'Xanthia Gardner': 'HS Perm',\n",
    "    'Charlie Hellmundt': 'GP Locum',\n",
    "    'Paul Campbell': 'GP Locum',\n",
    "    'Sharlina Drutschmann': 'GP Locum',\n",
    "}\n",
    "\n",
    "# Create the 'team allocated' column based on 'Primary Consultant' using the mapping dictionary\n",
    "df['Team Allocated'] = df['Primary Consultant'].map(team_mapping)\n"
   ]
  },
  {
   "cell_type": "code",
   "execution_count": 49,
   "id": "15dd48a8-2f29-41ef-8362-f81d59375836",
   "metadata": {
    "tags": []
   },
   "outputs": [
    {
     "name": "stdout",
     "output_type": "stream",
     "text": [
      "<class 'pandas.core.frame.DataFrame'>\n",
      "Index: 3425 entries, 0 to 4342\n",
      "Data columns (total 16 columns):\n",
      " #   Column                            Non-Null Count  Dtype         \n",
      "---  ------                            --------------  -----         \n",
      " 0   ApplicantId                       3425 non-null   int64         \n",
      " 1   Filed As                          3425 non-null   object        \n",
      " 2   Status                            3425 non-null   object        \n",
      " 3   CreatedOn                         3425 non-null   datetime64[ns]\n",
      " 4   Source                            3425 non-null   object        \n",
      " 5   Feedback Score                    0 non-null      float64       \n",
      " 6   Country                           3425 non-null   object        \n",
      " 7   Registration #                    898 non-null    object        \n",
      " 8   Registration Type                 896 non-null    object        \n",
      " 9   Registration Expiry               878 non-null    object        \n",
      " 10  Employment Preference Attributes  3425 non-null   object        \n",
      " 11  Specialty                         3423 non-null   object        \n",
      " 12  Seniority                         3425 non-null   object        \n",
      " 13  Primary Consultant                626 non-null    object        \n",
      " 14  FY24 Week                         3425 non-null   int64         \n",
      " 15  Team Allocated                    474 non-null    object        \n",
      "dtypes: datetime64[ns](1), float64(1), int64(2), object(12)\n",
      "memory usage: 454.9+ KB\n"
     ]
    }
   ],
   "source": [
    "df.info()"
   ]
  },
  {
   "cell_type": "code",
   "execution_count": 50,
   "id": "a44e16e4-1974-4402-8cbc-ab714b00f96a",
   "metadata": {
    "tags": []
   },
   "outputs": [
    {
     "name": "stdout",
     "output_type": "stream",
     "text": [
      "['Dominic Tan' 'Carole Paterson' 'Alex Graham' 'Wave Info'\n",
      " 'Lornita Papworth' 'Jecca Bacarisas' 'Tabather Cain' 'Claire Ponsford'\n",
      " 'Roneeta Chand' 'Nastya Kikteva' 'Max Drakeley' 'Malavika Vaz']\n"
     ]
    }
   ],
   "source": [
    "# Filter for unmapped rows (where 'Primary Consultant' is not null and 'Team Allocated' is missing)\n",
    "unmapped_rows = df[df['Primary Consultant'].notna() & df['Team Allocated'].isna()]\n",
    "\n",
    "# Get the unique values of 'Primary Consultant' for unmapped rows\n",
    "unique_primary_consultants = unmapped_rows['Primary Consultant'].unique()\n",
    "\n",
    "# Display the unique values\n",
    "print(unique_primary_consultants)"
   ]
  },
  {
   "cell_type": "code",
   "execution_count": 51,
   "id": "eae4914a-9dda-4133-9cbb-066d10432c2e",
   "metadata": {},
   "outputs": [],
   "source": [
    "# Non-Australia - Assign 'HS Perm' or 'GP Perm' based on specified conditions\n",
    "non_australia = (df['Country'] != 'Australia')\n",
    "\n",
    "# Check if neither 'Specialty' nor 'Seniority' contains 'GP' related phrases\n",
    "hs_perm_conditions = (\n",
    "    non_australia &\n",
    "    ~(\n",
    "        (df['Specialty'].str.contains('GP|General Practice|General Practitioner', case=False)) | \n",
    "        (df['Seniority'].str.contains('GP|General Practice|General Practitioner', case=False))\n",
    "    )\n",
    ")\n",
    "\n",
    "# Update 'HS Perm' for null 'Team Allocated' where the conditions are met\n",
    "df.loc[hs_perm_conditions & df['Team Allocated'].isnull(), 'Team Allocated'] = 'HS Perm'\n",
    "\n",
    "# Check for 'GP Perm' based on the same conditions\n",
    "gp_perm_conditions = (\n",
    "    non_australia &\n",
    "    (\n",
    "        (df['Specialty'].str.contains('GP|General Practice|General Practitioner', case=False)) | \n",
    "        (df['Seniority'].str.contains('GP|General Practice|General Practitioner', case=False))\n",
    "    )\n",
    ")\n",
    "\n",
    "# Update 'GP Perm' for null 'Team Allocated' based on specified conditions\n",
    "df.loc[gp_perm_conditions & df['Team Allocated'].isnull(), 'Team Allocated'] = 'GP Perm'\n"
   ]
  },
  {
   "cell_type": "code",
   "execution_count": 52,
   "id": "079cb958-e695-4127-b189-f69aaa4b70c5",
   "metadata": {
    "metadata": {},
    "tags": []
   },
   "outputs": [
    {
     "name": "stdout",
     "output_type": "stream",
     "text": [
      "<class 'pandas.core.frame.DataFrame'>\n",
      "Index: 3425 entries, 0 to 4342\n",
      "Data columns (total 16 columns):\n",
      " #   Column                            Non-Null Count  Dtype         \n",
      "---  ------                            --------------  -----         \n",
      " 0   ApplicantId                       3425 non-null   int64         \n",
      " 1   Filed As                          3425 non-null   object        \n",
      " 2   Status                            3425 non-null   object        \n",
      " 3   CreatedOn                         3425 non-null   datetime64[ns]\n",
      " 4   Source                            3425 non-null   object        \n",
      " 5   Feedback Score                    0 non-null      float64       \n",
      " 6   Country                           3425 non-null   object        \n",
      " 7   Registration #                    898 non-null    object        \n",
      " 8   Registration Type                 896 non-null    object        \n",
      " 9   Registration Expiry               878 non-null    object        \n",
      " 10  Employment Preference Attributes  3425 non-null   object        \n",
      " 11  Specialty                         3423 non-null   object        \n",
      " 12  Seniority                         3425 non-null   object        \n",
      " 13  Primary Consultant                626 non-null    object        \n",
      " 14  FY24 Week                         3425 non-null   int64         \n",
      " 15  Team Allocated                    2159 non-null   object        \n",
      "dtypes: datetime64[ns](1), float64(1), int64(2), object(12)\n",
      "memory usage: 454.9+ KB\n"
     ]
    }
   ],
   "source": [
    "df.info()"
   ]
  },
  {
   "cell_type": "code",
   "execution_count": 53,
   "id": "354c28c3-852c-40f8-b942-04f9dfa1742f",
   "metadata": {
    "tags": []
   },
   "outputs": [],
   "source": [
    "#Australia Perm\n",
    "employment_conditions = (\n",
    "    (df['Country'] == 'Australia') &\n",
    "    (df['Employment Preference Attributes'].notna()) &\n",
    "    (~df['Employment Preference Attributes'].str.contains('Locum', case=False, na=False))\n",
    ")\n",
    "\n",
    "gp_perm_conditions = (\n",
    "    employment_conditions &\n",
    "    (\n",
    "        (df['Specialty'].str.contains('GP|General Practice|General Practitioner', case=False, na=False)) | \n",
    "        (df['Seniority'].str.contains('GP|General Practice|General Practitioner', case=False, na=False))\n",
    "    )\n",
    ")\n",
    "\n",
    "# Set 'GP Perm' for 'Team Allocated' based on conditions\n",
    "df.loc[gp_perm_conditions & df['Team Allocated'].isnull(), 'Team Allocated'] = 'GP Perm'\n",
    "\n",
    "# Set 'HS Perm' for remaining null 'Team Allocated' based on conditions\n",
    "df.loc[employment_conditions & df['Team Allocated'].isnull(), 'Team Allocated'] = 'HS Perm'"
   ]
  },
  {
   "cell_type": "code",
   "execution_count": 54,
   "id": "3898652e-3e1f-4b3e-9ffc-b89dba18906a",
   "metadata": {
    "metadata": {},
    "tags": []
   },
   "outputs": [
    {
     "name": "stdout",
     "output_type": "stream",
     "text": [
      "<class 'pandas.core.frame.DataFrame'>\n",
      "Index: 3425 entries, 0 to 4342\n",
      "Data columns (total 16 columns):\n",
      " #   Column                            Non-Null Count  Dtype         \n",
      "---  ------                            --------------  -----         \n",
      " 0   ApplicantId                       3425 non-null   int64         \n",
      " 1   Filed As                          3425 non-null   object        \n",
      " 2   Status                            3425 non-null   object        \n",
      " 3   CreatedOn                         3425 non-null   datetime64[ns]\n",
      " 4   Source                            3425 non-null   object        \n",
      " 5   Feedback Score                    0 non-null      float64       \n",
      " 6   Country                           3425 non-null   object        \n",
      " 7   Registration #                    898 non-null    object        \n",
      " 8   Registration Type                 896 non-null    object        \n",
      " 9   Registration Expiry               878 non-null    object        \n",
      " 10  Employment Preference Attributes  3425 non-null   object        \n",
      " 11  Specialty                         3423 non-null   object        \n",
      " 12  Seniority                         3425 non-null   object        \n",
      " 13  Primary Consultant                626 non-null    object        \n",
      " 14  FY24 Week                         3425 non-null   int64         \n",
      " 15  Team Allocated                    2754 non-null   object        \n",
      "dtypes: datetime64[ns](1), float64(1), int64(2), object(12)\n",
      "memory usage: 454.9+ KB\n"
     ]
    }
   ],
   "source": [
    "df.info()"
   ]
  },
  {
   "cell_type": "code",
   "execution_count": 55,
   "id": "5c0819c5-22e0-4177-91c3-59b3c9a0374f",
   "metadata": {
    "tags": []
   },
   "outputs": [],
   "source": [
    "#Psych\n",
    "psych_conditions = (\n",
    "    (df['Country'] == 'Australia') &\n",
    "    (df['Specialty'].str.startswith('Psych')) &\n",
    "    (df['Team Allocated'].isnull())\n",
    ")\n",
    "\n",
    "# Set 'Psych' for 'Team Allocated' if conditions are met\n",
    "df.loc[psych_conditions, 'Team Allocated'] = 'Psych'"
   ]
  },
  {
   "cell_type": "code",
   "execution_count": 56,
   "id": "b8b11ebb-81aa-4a28-9ef0-c09a57fea98c",
   "metadata": {
    "metadata": {},
    "tags": []
   },
   "outputs": [
    {
     "name": "stdout",
     "output_type": "stream",
     "text": [
      "<class 'pandas.core.frame.DataFrame'>\n",
      "Index: 3425 entries, 0 to 4342\n",
      "Data columns (total 16 columns):\n",
      " #   Column                            Non-Null Count  Dtype         \n",
      "---  ------                            --------------  -----         \n",
      " 0   ApplicantId                       3425 non-null   int64         \n",
      " 1   Filed As                          3425 non-null   object        \n",
      " 2   Status                            3425 non-null   object        \n",
      " 3   CreatedOn                         3425 non-null   datetime64[ns]\n",
      " 4   Source                            3425 non-null   object        \n",
      " 5   Feedback Score                    0 non-null      float64       \n",
      " 6   Country                           3425 non-null   object        \n",
      " 7   Registration #                    898 non-null    object        \n",
      " 8   Registration Type                 896 non-null    object        \n",
      " 9   Registration Expiry               878 non-null    object        \n",
      " 10  Employment Preference Attributes  3425 non-null   object        \n",
      " 11  Specialty                         3423 non-null   object        \n",
      " 12  Seniority                         3425 non-null   object        \n",
      " 13  Primary Consultant                626 non-null    object        \n",
      " 14  FY24 Week                         3425 non-null   int64         \n",
      " 15  Team Allocated                    2793 non-null   object        \n",
      "dtypes: datetime64[ns](1), float64(1), int64(2), object(12)\n",
      "memory usage: 454.9+ KB\n"
     ]
    }
   ],
   "source": [
    "df.info()"
   ]
  },
  {
   "cell_type": "code",
   "execution_count": 57,
   "id": "f6611b0d-0ad3-4dc1-82fd-8a80c92af8ed",
   "metadata": {
    "tags": []
   },
   "outputs": [],
   "source": [
    "#Junior\n",
    "jld_conditions = (\n",
    "    df['Team Allocated'].isnull() &\n",
    "    df['Seniority'].str.contains('resident|registrar|cmo / smo|intern|student', case=False)\n",
    ")\n",
    "\n",
    "# Set 'JLD' for 'Team Allocated' where conditions are met\n",
    "df.loc[jld_conditions, 'Team Allocated'] = 'JLD'"
   ]
  },
  {
   "cell_type": "code",
   "execution_count": 58,
   "id": "4bb3d1fd-0292-4589-b09c-fefb0f04eb43",
   "metadata": {
    "metadata": {},
    "tags": []
   },
   "outputs": [
    {
     "name": "stdout",
     "output_type": "stream",
     "text": [
      "<class 'pandas.core.frame.DataFrame'>\n",
      "Index: 3425 entries, 0 to 4342\n",
      "Data columns (total 16 columns):\n",
      " #   Column                            Non-Null Count  Dtype         \n",
      "---  ------                            --------------  -----         \n",
      " 0   ApplicantId                       3425 non-null   int64         \n",
      " 1   Filed As                          3425 non-null   object        \n",
      " 2   Status                            3425 non-null   object        \n",
      " 3   CreatedOn                         3425 non-null   datetime64[ns]\n",
      " 4   Source                            3425 non-null   object        \n",
      " 5   Feedback Score                    0 non-null      float64       \n",
      " 6   Country                           3425 non-null   object        \n",
      " 7   Registration #                    898 non-null    object        \n",
      " 8   Registration Type                 896 non-null    object        \n",
      " 9   Registration Expiry               878 non-null    object        \n",
      " 10  Employment Preference Attributes  3425 non-null   object        \n",
      " 11  Specialty                         3423 non-null   object        \n",
      " 12  Seniority                         3425 non-null   object        \n",
      " 13  Primary Consultant                626 non-null    object        \n",
      " 14  FY24 Week                         3425 non-null   int64         \n",
      " 15  Team Allocated                    3155 non-null   object        \n",
      "dtypes: datetime64[ns](1), float64(1), int64(2), object(12)\n",
      "memory usage: 454.9+ KB\n"
     ]
    }
   ],
   "source": [
    "df.info()"
   ]
  },
  {
   "cell_type": "code",
   "execution_count": 59,
   "id": "f7f3bfad-1aee-4b0e-be7e-3e0253bf1fbb",
   "metadata": {
    "tags": []
   },
   "outputs": [],
   "source": [
    "#Australia Locum\n",
    "# Check if either 'Specialty' or 'Seniority' contains GP-related phrases\n",
    "gp_locum_conditions = (\n",
    "    (df['Team Allocated'].isnull()) &\n",
    "    (df['Specialty'].str.contains('GP|General Practitioner|General Practice', case=False) |\n",
    "    df['Seniority'].str.contains('GP|General Practitioner|General Practice', case=False))\n",
    ")\n",
    "\n",
    "# Set 'GP Locum' for rows with null 'Team Allocated' based on the specified conditions\n",
    "df.loc[gp_locum_conditions, 'Team Allocated'] = 'GP Locum'\n",
    "\n",
    "# Set 'HS Locum' for the remaining null 'Team Allocated' rows that don't meet the GP conditions\n",
    "df.loc[df['Team Allocated'].isnull(), 'Team Allocated'] = 'HS Locum'"
   ]
  },
  {
   "cell_type": "code",
   "execution_count": 60,
   "id": "2b7442dd-40ce-4f60-935b-b8fffe541544",
   "metadata": {
    "metadata": {},
    "tags": []
   },
   "outputs": [
    {
     "name": "stdout",
     "output_type": "stream",
     "text": [
      "<class 'pandas.core.frame.DataFrame'>\n",
      "Index: 3425 entries, 0 to 4342\n",
      "Data columns (total 16 columns):\n",
      " #   Column                            Non-Null Count  Dtype         \n",
      "---  ------                            --------------  -----         \n",
      " 0   ApplicantId                       3425 non-null   int64         \n",
      " 1   Filed As                          3425 non-null   object        \n",
      " 2   Status                            3425 non-null   object        \n",
      " 3   CreatedOn                         3425 non-null   datetime64[ns]\n",
      " 4   Source                            3425 non-null   object        \n",
      " 5   Feedback Score                    0 non-null      float64       \n",
      " 6   Country                           3425 non-null   object        \n",
      " 7   Registration #                    898 non-null    object        \n",
      " 8   Registration Type                 896 non-null    object        \n",
      " 9   Registration Expiry               878 non-null    object        \n",
      " 10  Employment Preference Attributes  3425 non-null   object        \n",
      " 11  Specialty                         3423 non-null   object        \n",
      " 12  Seniority                         3425 non-null   object        \n",
      " 13  Primary Consultant                626 non-null    object        \n",
      " 14  FY24 Week                         3425 non-null   int64         \n",
      " 15  Team Allocated                    3425 non-null   object        \n",
      "dtypes: datetime64[ns](1), float64(1), int64(2), object(12)\n",
      "memory usage: 454.9+ KB\n"
     ]
    }
   ],
   "source": [
    "df.info()"
   ]
  },
  {
   "cell_type": "code",
   "execution_count": 61,
   "id": "2d2d1211-12d8-4b7a-bc3c-329471b9aff4",
   "metadata": {
    "tags": []
   },
   "outputs": [],
   "source": [
    "#diveregent  careers/ executives\n",
    "# Condition to check Seniority and Country\n",
    "seniority_conditions = (\n",
    "    (df['Seniority'].str.contains('Director|DMS|Health Executive|Divergent Careers|Allied Health|Medical Admin|Scientist', case=False, na=False)) &\n",
    "    (df['Country'] == 'Australia')\n",
    ")\n",
    "\n",
    "# Update 'HS Perm' for the specified conditions\n",
    "df.loc[seniority_conditions, 'Team Allocated'] = 'HS Perm'"
   ]
  },
  {
   "cell_type": "code",
   "execution_count": 62,
   "id": "b91dbf00-687d-44e9-abae-74d3aae4888d",
   "metadata": {
    "metadata": {},
    "tags": []
   },
   "outputs": [
    {
     "name": "stdout",
     "output_type": "stream",
     "text": [
      "<class 'pandas.core.frame.DataFrame'>\n",
      "Index: 3425 entries, 0 to 4342\n",
      "Data columns (total 16 columns):\n",
      " #   Column                            Non-Null Count  Dtype         \n",
      "---  ------                            --------------  -----         \n",
      " 0   ApplicantId                       3425 non-null   int64         \n",
      " 1   Filed As                          3425 non-null   object        \n",
      " 2   Status                            3425 non-null   object        \n",
      " 3   CreatedOn                         3425 non-null   datetime64[ns]\n",
      " 4   Source                            3425 non-null   object        \n",
      " 5   Feedback Score                    0 non-null      float64       \n",
      " 6   Country                           3425 non-null   object        \n",
      " 7   Registration #                    898 non-null    object        \n",
      " 8   Registration Type                 896 non-null    object        \n",
      " 9   Registration Expiry               878 non-null    object        \n",
      " 10  Employment Preference Attributes  3425 non-null   object        \n",
      " 11  Specialty                         3423 non-null   object        \n",
      " 12  Seniority                         3425 non-null   object        \n",
      " 13  Primary Consultant                626 non-null    object        \n",
      " 14  FY24 Week                         3425 non-null   int64         \n",
      " 15  Team Allocated                    3425 non-null   object        \n",
      "dtypes: datetime64[ns](1), float64(1), int64(2), object(12)\n",
      "memory usage: 454.9+ KB\n"
     ]
    }
   ],
   "source": [
    "df.info()"
   ]
  },
  {
   "cell_type": "code",
   "execution_count": 63,
   "metadata": {
    "metadata": {}
   },
   "outputs": [
    {
     "name": "stdout",
     "output_type": "stream",
     "text": [
      "Team Allocated\n",
      "HS Perm    102\n",
      "GP Perm     14\n",
      "Name: count, dtype: int64\n"
     ]
    }
   ],
   "source": [
    "# Check for the specified condition\n",
    "condition = (df['Seniority'].str.contains('Director|DMS|Health Executive|Divergent Careers|Allied Health|Medical Admin|Scientist', case=False, na=False))\n",
    "\n",
    "# Get value counts for 'Team Allocated' for rows that satisfy the condition\n",
    "team_allocated_counts = df.loc[condition, 'Team Allocated'].value_counts()\n",
    "\n",
    "# Print the value counts\n",
    "print(team_allocated_counts)"
   ]
  },
  {
   "cell_type": "code",
   "execution_count": 64,
   "metadata": {
    "metadata": {}
   },
   "outputs": [
    {
     "data": {
      "text/html": [
       "<div>\n",
       "<style scoped>\n",
       "    .dataframe tbody tr th:only-of-type {\n",
       "        vertical-align: middle;\n",
       "    }\n",
       "\n",
       "    .dataframe tbody tr th {\n",
       "        vertical-align: top;\n",
       "    }\n",
       "\n",
       "    .dataframe thead th {\n",
       "        text-align: right;\n",
       "    }\n",
       "</style>\n",
       "<table border=\"1\" class=\"dataframe\">\n",
       "  <thead>\n",
       "    <tr style=\"text-align: right;\">\n",
       "      <th></th>\n",
       "      <th>ApplicantId</th>\n",
       "      <th>Filed As</th>\n",
       "      <th>Status</th>\n",
       "      <th>CreatedOn</th>\n",
       "      <th>Source</th>\n",
       "      <th>Feedback Score</th>\n",
       "      <th>Country</th>\n",
       "      <th>Registration #</th>\n",
       "      <th>Registration Type</th>\n",
       "      <th>Registration Expiry</th>\n",
       "      <th>Employment Preference Attributes</th>\n",
       "      <th>Specialty</th>\n",
       "      <th>Seniority</th>\n",
       "      <th>Primary Consultant</th>\n",
       "      <th>FY24 Week</th>\n",
       "      <th>Team Allocated</th>\n",
       "    </tr>\n",
       "  </thead>\n",
       "  <tbody>\n",
       "    <tr>\n",
       "      <th>739</th>\n",
       "      <td>215009</td>\n",
       "      <td>Rakesh Sachdeva</td>\n",
       "      <td>Transitional</td>\n",
       "      <td>2023-09-27 22:14:00</td>\n",
       "      <td>Linkedin</td>\n",
       "      <td>NaN</td>\n",
       "      <td>United Kingdom</td>\n",
       "      <td>NaN</td>\n",
       "      <td>NaN</td>\n",
       "      <td>NaN</td>\n",
       "      <td>Permanent</td>\n",
       "      <td>Paeds - Respiratory Medicine, Paeds - Infectio...</td>\n",
       "      <td>Divergent Careers, Deputy Director of Medical ...</td>\n",
       "      <td>NaN</td>\n",
       "      <td>13</td>\n",
       "      <td>GP Perm</td>\n",
       "    </tr>\n",
       "    <tr>\n",
       "      <th>871</th>\n",
       "      <td>215235</td>\n",
       "      <td>Khyber Alam</td>\n",
       "      <td>Passive</td>\n",
       "      <td>2023-10-07 03:01:00</td>\n",
       "      <td>Linkedin</td>\n",
       "      <td>NaN</td>\n",
       "      <td>United Kingdom</td>\n",
       "      <td>NaN</td>\n",
       "      <td>NaN</td>\n",
       "      <td>NaN</td>\n",
       "      <td>Permanent, Telehealth</td>\n",
       "      <td>GP Telehealth, Medical Administration, General...</td>\n",
       "      <td>Director / Clinical Director, Executive Direct...</td>\n",
       "      <td>NaN</td>\n",
       "      <td>14</td>\n",
       "      <td>GP Perm</td>\n",
       "    </tr>\n",
       "    <tr>\n",
       "      <th>1289</th>\n",
       "      <td>215989</td>\n",
       "      <td>Sergio Ortiz-Alinque</td>\n",
       "      <td>Transitional</td>\n",
       "      <td>2023-11-06 11:52:00</td>\n",
       "      <td>Paid Social Lead Gen Linkedin</td>\n",
       "      <td>NaN</td>\n",
       "      <td>Spain</td>\n",
       "      <td>NaN</td>\n",
       "      <td>NaN</td>\n",
       "      <td>NaN</td>\n",
       "      <td>Permanent</td>\n",
       "      <td>General Practice</td>\n",
       "      <td>Divergent Careers</td>\n",
       "      <td>Jane Stanke</td>\n",
       "      <td>19</td>\n",
       "      <td>GP Perm</td>\n",
       "    </tr>\n",
       "    <tr>\n",
       "      <th>1680</th>\n",
       "      <td>216643</td>\n",
       "      <td>Kudzai Machingauta</td>\n",
       "      <td>Ineligible</td>\n",
       "      <td>2023-12-07 04:53:00</td>\n",
       "      <td>Organic Search</td>\n",
       "      <td>NaN</td>\n",
       "      <td>Zimbabwe</td>\n",
       "      <td>NaN</td>\n",
       "      <td>NaN</td>\n",
       "      <td>NaN</td>\n",
       "      <td>Permanent</td>\n",
       "      <td>Public Health, GP Anaesthetics</td>\n",
       "      <td>Divergent Careers</td>\n",
       "      <td>NaN</td>\n",
       "      <td>23</td>\n",
       "      <td>GP Perm</td>\n",
       "    </tr>\n",
       "    <tr>\n",
       "      <th>2702</th>\n",
       "      <td>217910</td>\n",
       "      <td>Munzir Hamid</td>\n",
       "      <td>Ineligible</td>\n",
       "      <td>2024-01-18 14:25:00</td>\n",
       "      <td>Linkedin</td>\n",
       "      <td>NaN</td>\n",
       "      <td>Oman</td>\n",
       "      <td>NaN</td>\n",
       "      <td>NaN</td>\n",
       "      <td>NaN</td>\n",
       "      <td>Permanent</td>\n",
       "      <td>GP Emergency, Emergency Medicine (A&amp;E), Genera...</td>\n",
       "      <td>Resident (RMO), Health Executive</td>\n",
       "      <td>NaN</td>\n",
       "      <td>29</td>\n",
       "      <td>GP Perm</td>\n",
       "    </tr>\n",
       "  </tbody>\n",
       "</table>\n",
       "</div>"
      ],
      "text/plain": [
       "      ApplicantId              Filed As        Status           CreatedOn  \\\n",
       "739        215009       Rakesh Sachdeva  Transitional 2023-09-27 22:14:00   \n",
       "871        215235           Khyber Alam       Passive 2023-10-07 03:01:00   \n",
       "1289       215989  Sergio Ortiz-Alinque  Transitional 2023-11-06 11:52:00   \n",
       "1680       216643    Kudzai Machingauta    Ineligible 2023-12-07 04:53:00   \n",
       "2702       217910          Munzir Hamid    Ineligible 2024-01-18 14:25:00   \n",
       "\n",
       "                             Source  Feedback Score         Country  \\\n",
       "739                        Linkedin             NaN  United Kingdom   \n",
       "871                        Linkedin             NaN  United Kingdom   \n",
       "1289  Paid Social Lead Gen Linkedin             NaN           Spain   \n",
       "1680                 Organic Search             NaN        Zimbabwe   \n",
       "2702                       Linkedin             NaN            Oman   \n",
       "\n",
       "     Registration # Registration Type Registration Expiry  \\\n",
       "739             NaN               NaN                 NaN   \n",
       "871             NaN               NaN                 NaN   \n",
       "1289            NaN               NaN                 NaN   \n",
       "1680            NaN               NaN                 NaN   \n",
       "2702            NaN               NaN                 NaN   \n",
       "\n",
       "     Employment Preference Attributes  \\\n",
       "739                         Permanent   \n",
       "871             Permanent, Telehealth   \n",
       "1289                        Permanent   \n",
       "1680                        Permanent   \n",
       "2702                        Permanent   \n",
       "\n",
       "                                              Specialty  \\\n",
       "739   Paeds - Respiratory Medicine, Paeds - Infectio...   \n",
       "871   GP Telehealth, Medical Administration, General...   \n",
       "1289                                   General Practice   \n",
       "1680                     Public Health, GP Anaesthetics   \n",
       "2702  GP Emergency, Emergency Medicine (A&E), Genera...   \n",
       "\n",
       "                                              Seniority Primary Consultant  \\\n",
       "739   Divergent Careers, Deputy Director of Medical ...                NaN   \n",
       "871   Director / Clinical Director, Executive Direct...                NaN   \n",
       "1289                                  Divergent Careers        Jane Stanke   \n",
       "1680                                  Divergent Careers                NaN   \n",
       "2702                   Resident (RMO), Health Executive                NaN   \n",
       "\n",
       "      FY24 Week Team Allocated  \n",
       "739          13        GP Perm  \n",
       "871          14        GP Perm  \n",
       "1289         19        GP Perm  \n",
       "1680         23        GP Perm  \n",
       "2702         29        GP Perm  "
      ]
     },
     "execution_count": 64,
     "metadata": {},
     "output_type": "execute_result"
    }
   ],
   "source": [
    "seniority_condition = df['Seniority'].str.contains('Director|DMS|Health Executive|Divergent Careers|Allied Health|Medical Admin|Scientist', case=False, na=False)\n",
    "gp_perm_condition = df['Team Allocated'] == 'GP Perm'\n",
    "\n",
    "filtered_df = df[seniority_condition & gp_perm_condition]\n",
    "\n",
    "# Display relevant columns\n",
    "filtered_df.head()"
   ]
  },
  {
   "cell_type": "markdown",
   "id": "63700c4a",
   "metadata": {},
   "source": [
    "\n",
    "\n",
    "\n",
    "If starts with unknown, other and followed by , second argument then change to 2nd argument\n",
    "Allied Health\n",
    "Anaesthetics\n",
    "Divrgent Careers\n",
    "Emergency\n",
    "General Manager\n",
    "General Practice\n",
    "GP AMS\n",
    "GP Emergency\n",
    "GP Obstetrics\n",
    "GP Sexual Health\n",
    "GP Skin\n",
    "GP Surgery\n",
    "GP Telehealth\n",
    "GP Urgent Care\n",
    "ICU\n",
    "Medical Administration\n",
    "Medicine - Cardiology\n",
    "Medicine - Dermatology\n",
    "Medicine - Gastroenterology\n",
    "Medicine – General\n",
    "Medicine - Geriatric\n",
    "Medicine - Haematology\n",
    "Medicine - Hepatology\n",
    "Medicine - Infectious Dis\n",
    "Medicine - Nephrology\n",
    "Medicine - Neurology\n",
    "Medicine - Oncology\n",
    "Medicine - Palliative Care\n",
    "Medicine - Rehabilitation\n",
    "Medicine - Respiratory\n",
    "Medicine - Rheumatology\n",
    "Medicine - Sports\n",
    "Medicine - Stroke\n",
    "Nuclear Medicine\n",
    "Obstetrics & Gynaecology\n",
    "Other\n",
    "Paediatrics\n",
    "Pathology\n",
    "Psychiatry\n",
    "Public Health\n",
    "Radiation - Oncology\n",
    "Radiology\n",
    "Surgery\n",
    "Unknown\n"
   ]
  },
  {
   "cell_type": "code",
   "execution_count": 65,
   "id": "c1d6aa41",
   "metadata": {},
   "outputs": [
    {
     "name": "stdout",
     "output_type": "stream",
     "text": [
      "Specialty\n",
      "Medicine – General                 622\n",
      "General Practice                   570\n",
      "Surgery                            306\n",
      "Emergency Medicine                 260\n",
      "Obstetrics & Gynaecology           223\n",
      "Unknown                            214\n",
      "Psych                              182\n",
      "Anaesthetics                       131\n",
      "Intensive Care                     112\n",
      "Paeds                              105\n",
      "Radiology                           86\n",
      "Path                                64\n",
      "Divergent Careers                   50\n",
      "Public Health                       48\n",
      "GP Telehealth                       47\n",
      "Other                               44\n",
      "GP Emergency                        40\n",
      "GP AMS                              39\n",
      "Medicine - Cardiology               31\n",
      "Medicine - Gastroenterology         23\n",
      "Medicine - Respiratory              22\n",
      "Allied Health                       19\n",
      "GP Skin                             19\n",
      "Medicine - Oncology                 18\n",
      "Medical Administration              14\n",
      "Medicine - Nephrology               13\n",
      "GP Surgery                          13\n",
      "GP Obstetrics                       13\n",
      "Medicine - Neurology                11\n",
      "Medicine - Rheumatology              9\n",
      "Medicine - Dermatology               8\n",
      "Medicine - Geriatric                 8\n",
      "Medicine - Haematology               7\n",
      "Medicine - Rehabilitation            7\n",
      "General Manager                      6\n",
      "Medicine - Occupational Health       6\n",
      "GP Sexual Health                     5\n",
      "Medicine - Palliative Care           5\n",
      "Medicine - Diabetes                  3\n",
      "GP Urgent Care                       3\n",
      "Radiation - Oncology                 3\n",
      "Medicine - Hepatology                3\n",
      "Nuclear Medicine                     3\n",
      "Medicine - Infectious Dis            2\n",
      "Medicine - Transfusion Medicine      2\n",
      "Medicine - Stroke                    2\n",
      "Medicine - Sports                    1\n",
      "Medicine - Immunology                1\n",
      "Medicine - Pain                      1\n",
      "GP Occ Health                        1\n",
      "Name: count, dtype: int64\n"
     ]
    }
   ],
   "source": [
    "# List of specified categories with the corrected \"Intensive Care\"\n",
    "categories = [\n",
    "    \"Allied Health\", \"Anaesthetics\", \"Divergent Careers\", \"Emergency Medicine\", \"General Manager\", \n",
    "    \"General Practice\", \"GP AMS\", \"GP Emergency\", \"GP Obstetrics\", \"GP Sexual Health\", \"GP Occ Health\",\n",
    "    \"GP Skin\", \"GP Surgery\", \"GP Telehealth\", \"GP Urgent Care\", \"Intensive Care\", \n",
    "    \"Medical Administration\", \"Medicine - Cardiology\", \"Medicine - Dermatology\", \"Medicine - Diabetes\",\n",
    "    \"Medicine - Gastroenterology\", \"Medicine – General\", \"Medicine - Geriatric\", \"Medicine - Occupational Health\", \n",
    "    \"Medicine - Haematology\", \"Medicine - Hepatology\", \"Medicine - Infectious Dis\", \"Medicine - Transfusion Medicine\",\n",
    "    \"Medicine - Nephrology\", \"Medicine - Neurology\",\" Medicine - Occupational Health\", \"Medicine - Oncology\", \"Medicine - Immunology\",\n",
    "    \"Medicine - Palliative Care\", \"Medicine - Rehabilitation\", \"Medicine - Respiratory\", \"Medicine - Pain\",\n",
    "    \"Medicine - Rheumatology\", \"Medicine - Sports\", \"Medicine - Stroke\", \n",
    "    \"Nuclear Medicine\", \"Obstetrics & Gynaecology\", \"Other\", \"Paeds\", \n",
    "    \"Path\", \"Psych\", \"Public Health\", \"Radiation - Oncology\", \n",
    "    \"Radiology\", \"Surgery\", \"Unknown\"\n",
    "]\n",
    "\n",
    "# Sort categories by length in descending order\n",
    "categories.sort(key=len, reverse=True)\n",
    "\n",
    "# Function to check if a category is in the specialty\n",
    "def match_category(specialty, categories):\n",
    "    for category in categories:\n",
    "        if category in specialty:\n",
    "            return category\n",
    "    return 'Other'\n",
    "\n",
    "# Function to process the Specialty field\n",
    "def process_specialty(specialty):\n",
    "    if pd.isna(specialty):\n",
    "        return 'Unknown'\n",
    "    \n",
    "    parts = specialty.split(',')\n",
    "    first_arg = parts[0].strip()\n",
    "    \n",
    "    if (first_arg.startswith('Unknown') or first_arg.startswith('Other')) and len(parts) > 1:\n",
    "        second_arg = parts[1].strip()\n",
    "        return match_category(second_arg, categories)\n",
    "    \n",
    "    return match_category(first_arg, categories)\n",
    "\n",
    "# Apply the function to the 'Specialty' column\n",
    "df['Specialty'] = df['Specialty'].apply(process_specialty)\n",
    "\n",
    "# Check the result\n",
    "print(df['Specialty'].value_counts())\n",
    "\n"
   ]
  },
  {
   "cell_type": "markdown",
   "metadata": {},
   "source": [
    "## Save File"
   ]
  },
  {
   "cell_type": "code",
   "execution_count": 66,
   "id": "dc0924ea-236c-46da-86e6-37bbc3601db3",
   "metadata": {
    "metadata": {},
    "tags": []
   },
   "outputs": [
    {
     "name": "stdout",
     "output_type": "stream",
     "text": [
      "File saved as cleaned_new_leads\\newleads_cleaned_21072024.csv\n"
     ]
    }
   ],
   "source": [
    "# Get the current date\n",
    "current_date = datetime.datetime.now()\n",
    "\n",
    "# Calculate the date of the previous Sunday\n",
    "previous_sunday = current_date - timedelta(days=current_date.weekday() + 1)\n",
    "\n",
    "# Format the date in the desired format (YYYYMMDD)\n",
    "previous_sunday_str = previous_sunday.strftime(\"%d%m%Y\")\n",
    "\n",
    "# Create a folder if it doesn't exist\n",
    "folder_name = 'cleaned_new_leads'\n",
    "if not os.path.exists(folder_name):\n",
    "    os.makedirs(folder_name)\n",
    "\n",
    "# Construct the file path with the folder and the previous Sunday's date\n",
    "file_path = os.path.join(folder_name, f'newleads_cleaned_{previous_sunday_str}.csv')\n",
    "\n",
    "# Export DataFrame to a CSV file\n",
    "df.to_csv(file_path, index=False, encoding=result['encoding'])\n",
    "\n",
    "# Print a success message\n",
    "print(f'File saved as {file_path}')"
   ]
  }
 ],
 "metadata": {
  "kernelspec": {
   "display_name": "Python 3 (ipykernel)",
   "language": "python",
   "name": "python3"
  },
  "language_info": {
   "codemirror_mode": {
    "name": "ipython",
    "version": 3
   },
   "file_extension": ".py",
   "mimetype": "text/x-python",
   "name": "python",
   "nbconvert_exporter": "python",
   "pygments_lexer": "ipython3",
   "version": "3.11.9"
  }
 },
 "nbformat": 4,
 "nbformat_minor": 5
}
