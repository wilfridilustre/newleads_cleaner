{
 "cells": [
  {
   "cell_type": "code",
   "execution_count": 42,
   "id": "90f2dec1-b3b1-49f0-9d84-1d10c939516c",
   "metadata": {
    "tags": []
   },
   "outputs": [],
   "source": [
    "import numpy as np\n",
    "import pandas as pd\n",
    "import chardet\n",
    "import datetime\n",
    "from datetime import timedelta\n",
    "import os"
   ]
  },
  {
   "cell_type": "markdown",
   "metadata": {},
   "source": [
    "## Read File"
   ]
  },
  {
   "cell_type": "code",
   "execution_count": 43,
   "id": "ec984fa0-aa02-4858-b925-1be9e486a9ca",
   "metadata": {
    "tags": []
   },
   "outputs": [],
   "source": [
    "# Detect the encoding of the file\n",
    "with open('newleads.csv', 'rb') as f:\n",
    "    result = chardet.detect(f.read())\n",
    "\n",
    "# Read the file using the detected encoding\n",
    "df = pd.read_csv('newleads.csv', encoding=result['encoding'])"
   ]
  },
  {
   "cell_type": "code",
   "execution_count": 44,
   "id": "96300380-8d8a-4d0d-a29f-3afc0974cd1a",
   "metadata": {
    "tags": []
   },
   "outputs": [
    {
     "data": {
      "text/html": [
       "<div>\n",
       "<style scoped>\n",
       "    .dataframe tbody tr th:only-of-type {\n",
       "        vertical-align: middle;\n",
       "    }\n",
       "\n",
       "    .dataframe tbody tr th {\n",
       "        vertical-align: top;\n",
       "    }\n",
       "\n",
       "    .dataframe thead th {\n",
       "        text-align: right;\n",
       "    }\n",
       "</style>\n",
       "<table border=\"1\" class=\"dataframe\">\n",
       "  <thead>\n",
       "    <tr style=\"text-align: right;\">\n",
       "      <th></th>\n",
       "      <th>Filed As</th>\n",
       "      <th>Status</th>\n",
       "      <th>CreatedOn</th>\n",
       "      <th>Source</th>\n",
       "      <th>Feedback Score</th>\n",
       "      <th>Country</th>\n",
       "      <th>Registration #</th>\n",
       "      <th>Registration Type</th>\n",
       "      <th>Employment Preference Attributes</th>\n",
       "      <th>Specialty</th>\n",
       "      <th>Seniority</th>\n",
       "      <th>Primary Consultant</th>\n",
       "      <th>Primary Email</th>\n",
       "    </tr>\n",
       "  </thead>\n",
       "  <tbody>\n",
       "    <tr>\n",
       "      <th>0</th>\n",
       "      <td>Test Test</td>\n",
       "      <td>New Lead</td>\n",
       "      <td>01/09/2023 14:09</td>\n",
       "      <td>Referral - Personal referral</td>\n",
       "      <td>NaN</td>\n",
       "      <td>Australia</td>\n",
       "      <td>NaN</td>\n",
       "      <td>NaN</td>\n",
       "      <td>Locum</td>\n",
       "      <td>Emergency Medicine (A&amp;E)</td>\n",
       "      <td>Director / Clinical Director</td>\n",
       "      <td>NaN</td>\n",
       "      <td>NaN</td>\n",
       "    </tr>\n",
       "    <tr>\n",
       "      <th>1</th>\n",
       "      <td>Test Test</td>\n",
       "      <td>New Lead</td>\n",
       "      <td>01/09/2023 14:13</td>\n",
       "      <td>Referral - Personal referral</td>\n",
       "      <td>NaN</td>\n",
       "      <td>Australia</td>\n",
       "      <td>NaN</td>\n",
       "      <td>NaN</td>\n",
       "      <td>Locum</td>\n",
       "      <td>Emergency Medicine (A&amp;E)</td>\n",
       "      <td>Director / Clinical Director</td>\n",
       "      <td>NaN</td>\n",
       "      <td>NaN</td>\n",
       "    </tr>\n",
       "    <tr>\n",
       "      <th>2</th>\n",
       "      <td>Test Test</td>\n",
       "      <td>New Lead</td>\n",
       "      <td>01/09/2023 14:15</td>\n",
       "      <td>Referral - Personal referral</td>\n",
       "      <td>NaN</td>\n",
       "      <td>Australia</td>\n",
       "      <td>NaN</td>\n",
       "      <td>NaN</td>\n",
       "      <td>Locum</td>\n",
       "      <td>Emergency Medicine (A&amp;E)</td>\n",
       "      <td>Director / Clinical Director</td>\n",
       "      <td>NaN</td>\n",
       "      <td>NaN</td>\n",
       "    </tr>\n",
       "    <tr>\n",
       "      <th>3</th>\n",
       "      <td>Test Test</td>\n",
       "      <td>New Lead</td>\n",
       "      <td>01/09/2023 14:26</td>\n",
       "      <td>Referral - Personal referral</td>\n",
       "      <td>NaN</td>\n",
       "      <td>Australia</td>\n",
       "      <td>NaN</td>\n",
       "      <td>NaN</td>\n",
       "      <td>Locum</td>\n",
       "      <td>Emergency Medicine (A&amp;E)</td>\n",
       "      <td>Director / Clinical Director</td>\n",
       "      <td>NaN</td>\n",
       "      <td>NaN</td>\n",
       "    </tr>\n",
       "    <tr>\n",
       "      <th>4</th>\n",
       "      <td>Mattias Test</td>\n",
       "      <td>New Lead</td>\n",
       "      <td>24/10/2023 8:57</td>\n",
       "      <td>Google</td>\n",
       "      <td>NaN</td>\n",
       "      <td>Australia</td>\n",
       "      <td>NaN</td>\n",
       "      <td>NaN</td>\n",
       "      <td>Locum, Permanent</td>\n",
       "      <td>General Practice</td>\n",
       "      <td>General Practitioner</td>\n",
       "      <td>NaN</td>\n",
       "      <td>NaN</td>\n",
       "    </tr>\n",
       "  </tbody>\n",
       "</table>\n",
       "</div>"
      ],
      "text/plain": [
       "       Filed As    Status         CreatedOn                        Source  \\\n",
       "0     Test Test  New Lead  01/09/2023 14:09  Referral - Personal referral   \n",
       "1     Test Test  New Lead  01/09/2023 14:13  Referral - Personal referral   \n",
       "2     Test Test  New Lead  01/09/2023 14:15  Referral - Personal referral   \n",
       "3     Test Test  New Lead  01/09/2023 14:26  Referral - Personal referral   \n",
       "4  Mattias Test  New Lead   24/10/2023 8:57                        Google   \n",
       "\n",
       "   Feedback Score    Country Registration # Registration Type  \\\n",
       "0             NaN  Australia            NaN               NaN   \n",
       "1             NaN  Australia            NaN               NaN   \n",
       "2             NaN  Australia            NaN               NaN   \n",
       "3             NaN  Australia            NaN               NaN   \n",
       "4             NaN  Australia            NaN               NaN   \n",
       "\n",
       "  Employment Preference Attributes                 Specialty  \\\n",
       "0                            Locum  Emergency Medicine (A&E)   \n",
       "1                            Locum  Emergency Medicine (A&E)   \n",
       "2                            Locum  Emergency Medicine (A&E)   \n",
       "3                            Locum  Emergency Medicine (A&E)   \n",
       "4                 Locum, Permanent          General Practice   \n",
       "\n",
       "                      Seniority Primary Consultant Primary Email  \n",
       "0  Director / Clinical Director                NaN           NaN  \n",
       "1  Director / Clinical Director                NaN           NaN  \n",
       "2  Director / Clinical Director                NaN           NaN  \n",
       "3  Director / Clinical Director                NaN           NaN  \n",
       "4          General Practitioner                NaN           NaN  "
      ]
     },
     "execution_count": 44,
     "metadata": {},
     "output_type": "execute_result"
    }
   ],
   "source": [
    "df.head()"
   ]
  },
  {
   "cell_type": "code",
   "execution_count": 45,
   "id": "84bb88e9-ebaf-4222-b739-731d25fd3d56",
   "metadata": {
    "tags": []
   },
   "outputs": [
    {
     "name": "stdout",
     "output_type": "stream",
     "text": [
      "<class 'pandas.core.frame.DataFrame'>\n",
      "RangeIndex: 1621 entries, 0 to 1620\n",
      "Data columns (total 13 columns):\n",
      " #   Column                            Non-Null Count  Dtype  \n",
      "---  ------                            --------------  -----  \n",
      " 0   Filed As                          1621 non-null   object \n",
      " 1   Status                            1621 non-null   object \n",
      " 2   CreatedOn                         1621 non-null   object \n",
      " 3   Source                            1621 non-null   object \n",
      " 4   Feedback Score                    0 non-null      float64\n",
      " 5   Country                           1620 non-null   object \n",
      " 6   Registration #                    407 non-null    object \n",
      " 7   Registration Type                 404 non-null    object \n",
      " 8   Employment Preference Attributes  1621 non-null   object \n",
      " 9   Specialty                         1619 non-null   object \n",
      " 10  Seniority                         1621 non-null   object \n",
      " 11  Primary Consultant                223 non-null    object \n",
      " 12  Primary Email                     1609 non-null   object \n",
      "dtypes: float64(1), object(12)\n",
      "memory usage: 164.8+ KB\n"
     ]
    }
   ],
   "source": [
    "df.info()"
   ]
  },
  {
   "cell_type": "markdown",
   "metadata": {},
   "source": [
    "## Remove Test"
   ]
  },
  {
   "cell_type": "code",
   "execution_count": 46,
   "id": "3ff94b9f-3909-4d70-9605-4e1e9f9983e8",
   "metadata": {
    "tags": []
   },
   "outputs": [],
   "source": [
    "# Define substrings to filter\n",
    "substrings_to_remove = ['test', 'graham long', 'lizzie new' , 'Tahnee Love']\n",
    "\n",
    "# Create a boolean mask to filter rows\n",
    "mask = ~df['Filed As'].str.lower().str.contains('|'.join(substrings_to_remove), case=False)\n",
    "\n",
    "# Apply the mask to the DataFrame\n",
    "df = df[mask]"
   ]
  },
  {
   "cell_type": "code",
   "execution_count": 47,
   "id": "dd681a53-f441-418b-a3c5-1b89727aa720",
   "metadata": {
    "tags": []
   },
   "outputs": [
    {
     "name": "stdout",
     "output_type": "stream",
     "text": [
      "<class 'pandas.core.frame.DataFrame'>\n",
      "Index: 1608 entries, 5 to 1620\n",
      "Data columns (total 13 columns):\n",
      " #   Column                            Non-Null Count  Dtype  \n",
      "---  ------                            --------------  -----  \n",
      " 0   Filed As                          1608 non-null   object \n",
      " 1   Status                            1608 non-null   object \n",
      " 2   CreatedOn                         1608 non-null   object \n",
      " 3   Source                            1608 non-null   object \n",
      " 4   Feedback Score                    0 non-null      float64\n",
      " 5   Country                           1607 non-null   object \n",
      " 6   Registration #                    407 non-null    object \n",
      " 7   Registration Type                 404 non-null    object \n",
      " 8   Employment Preference Attributes  1608 non-null   object \n",
      " 9   Specialty                         1608 non-null   object \n",
      " 10  Seniority                         1608 non-null   object \n",
      " 11  Primary Consultant                223 non-null    object \n",
      " 12  Primary Email                     1603 non-null   object \n",
      "dtypes: float64(1), object(12)\n",
      "memory usage: 175.9+ KB\n"
     ]
    }
   ],
   "source": [
    "df.info()"
   ]
  },
  {
   "cell_type": "code",
   "execution_count": 48,
   "id": "a24b0974-3517-4a56-bbd3-2a6180f810c9",
   "metadata": {},
   "outputs": [],
   "source": [
    "#remove RMS\n",
    "# List of consultants to remove\n",
    "consultants_to_remove = ['Leiara Ferrett', 'Ebony Kouka', 'Alexandra Graham', 'Lisa Greaves', 'Elinor Faulkner']\n",
    "\n",
    "# Filter out rows where Primary Consultant is in the list of consultants to remove\n",
    "df = df[~df['Primary Consultant'].isin(consultants_to_remove)]"
   ]
  },
  {
   "cell_type": "code",
   "execution_count": 49,
   "id": "33b1d5e1-b72c-4ad1-af13-9906836e38da",
   "metadata": {},
   "outputs": [
    {
     "name": "stdout",
     "output_type": "stream",
     "text": [
      "<class 'pandas.core.frame.DataFrame'>\n",
      "Index: 1602 entries, 5 to 1620\n",
      "Data columns (total 13 columns):\n",
      " #   Column                            Non-Null Count  Dtype  \n",
      "---  ------                            --------------  -----  \n",
      " 0   Filed As                          1602 non-null   object \n",
      " 1   Status                            1602 non-null   object \n",
      " 2   CreatedOn                         1602 non-null   object \n",
      " 3   Source                            1602 non-null   object \n",
      " 4   Feedback Score                    0 non-null      float64\n",
      " 5   Country                           1601 non-null   object \n",
      " 6   Registration #                    407 non-null    object \n",
      " 7   Registration Type                 404 non-null    object \n",
      " 8   Employment Preference Attributes  1602 non-null   object \n",
      " 9   Specialty                         1602 non-null   object \n",
      " 10  Seniority                         1602 non-null   object \n",
      " 11  Primary Consultant                217 non-null    object \n",
      " 12  Primary Email                     1597 non-null   object \n",
      "dtypes: float64(1), object(12)\n",
      "memory usage: 175.2+ KB\n"
     ]
    }
   ],
   "source": [
    "df.info()"
   ]
  },
  {
   "cell_type": "code",
   "execution_count": 50,
   "id": "80a01919-7f05-4266-8e22-300651a304f9",
   "metadata": {
    "tags": []
   },
   "outputs": [],
   "source": [
    "# Filter condition to remove specific emails from 'Primary Email'\n",
    "condition = (df['Primary Email'].str.endswith('@wave.com.au')) & (~df['Primary Email'].isin(['unknown@wave.com.au', 'tbc@wave.com.au']))\n",
    "\n",
    "# Removing rows based on the condition\n",
    "df = df[~condition]\n",
    "\n",
    "# Dropping the 'Primary Email' column\n",
    "df = df.drop('Primary Email', axis=1)"
   ]
  },
  {
   "cell_type": "code",
   "execution_count": 51,
   "id": "20e83234-c611-42d8-8d25-73d9b8956d24",
   "metadata": {
    "tags": []
   },
   "outputs": [
    {
     "name": "stdout",
     "output_type": "stream",
     "text": [
      "<class 'pandas.core.frame.DataFrame'>\n",
      "Index: 1599 entries, 5 to 1620\n",
      "Data columns (total 12 columns):\n",
      " #   Column                            Non-Null Count  Dtype  \n",
      "---  ------                            --------------  -----  \n",
      " 0   Filed As                          1599 non-null   object \n",
      " 1   Status                            1599 non-null   object \n",
      " 2   CreatedOn                         1599 non-null   object \n",
      " 3   Source                            1599 non-null   object \n",
      " 4   Feedback Score                    0 non-null      float64\n",
      " 5   Country                           1599 non-null   object \n",
      " 6   Registration #                    407 non-null    object \n",
      " 7   Registration Type                 404 non-null    object \n",
      " 8   Employment Preference Attributes  1599 non-null   object \n",
      " 9   Specialty                         1599 non-null   object \n",
      " 10  Seniority                         1599 non-null   object \n",
      " 11  Primary Consultant                215 non-null    object \n",
      "dtypes: float64(1), object(11)\n",
      "memory usage: 162.4+ KB\n"
     ]
    }
   ],
   "source": [
    "df.info()"
   ]
  },
  {
   "cell_type": "code",
   "execution_count": 52,
   "id": "4773f40d-9a2c-4856-b8ce-cfb39f394ea1",
   "metadata": {
    "tags": []
   },
   "outputs": [],
   "source": [
    "# Create a boolean mask to filter rows\n",
    "mask = ~((df['Status'] == 'Imported') & (df['Source'].isin(['Headhunt', 'Linkedin'])))\n",
    "\n",
    "# Apply the mask to the original DataFrame 'df'\n",
    "df = df[mask]"
   ]
  },
  {
   "cell_type": "code",
   "execution_count": 53,
   "id": "de6af32f-395a-47a2-9517-8f745967647b",
   "metadata": {
    "tags": []
   },
   "outputs": [
    {
     "name": "stdout",
     "output_type": "stream",
     "text": [
      "<class 'pandas.core.frame.DataFrame'>\n",
      "Index: 1489 entries, 5 to 1620\n",
      "Data columns (total 12 columns):\n",
      " #   Column                            Non-Null Count  Dtype  \n",
      "---  ------                            --------------  -----  \n",
      " 0   Filed As                          1489 non-null   object \n",
      " 1   Status                            1489 non-null   object \n",
      " 2   CreatedOn                         1489 non-null   object \n",
      " 3   Source                            1489 non-null   object \n",
      " 4   Feedback Score                    0 non-null      float64\n",
      " 5   Country                           1489 non-null   object \n",
      " 6   Registration #                    322 non-null    object \n",
      " 7   Registration Type                 319 non-null    object \n",
      " 8   Employment Preference Attributes  1489 non-null   object \n",
      " 9   Specialty                         1489 non-null   object \n",
      " 10  Seniority                         1489 non-null   object \n",
      " 11  Primary Consultant                193 non-null    object \n",
      "dtypes: float64(1), object(11)\n",
      "memory usage: 151.2+ KB\n"
     ]
    }
   ],
   "source": [
    "df.info()"
   ]
  },
  {
   "cell_type": "markdown",
   "metadata": {},
   "source": [
    "## add week number"
   ]
  },
  {
   "cell_type": "code",
   "execution_count": 54,
   "id": "bda0f6e4-e8a8-49b0-9e73-4afcbe4a76c5",
   "metadata": {
    "tags": []
   },
   "outputs": [],
   "source": [
    "# Function to calculate the week number based on weeks ending on Sundays\n",
    "def calculate_week_monday_start(date):\n",
    "    start_date = pd.to_datetime('2023-07-01')\n",
    "    days_since_start = (date - start_date).days\n",
    "\n",
    "    # Adjusting for a Monday start\n",
    "    offset = (start_date.dayofweek - 0) % 7\n",
    "    days_since_start += offset\n",
    "\n",
    "    if days_since_start < 0:\n",
    "        return 0  # If the date is before the start date, return 0 or handle as needed\n",
    "    else:\n",
    "        if days_since_start <= 7:\n",
    "            return 1\n",
    "        else:\n",
    "            week_number = 1 + ((days_since_start - 7) // 7)  # Starting from week 2\n",
    "            return week_number\n",
    "\n",
    "# Assuming 'df' is your DataFrame and 'CreatedOn' is your date field\n",
    "df['CreatedOn'] = pd.to_datetime(df['CreatedOn'], format='%d/%m/%Y %H:%M', errors='coerce')\n",
    "\n",
    "# Apply the function to calculate the week number\n",
    "df['FY24 Week'] = df['CreatedOn'].apply(calculate_week_monday_start)"
   ]
  },
  {
   "cell_type": "code",
   "execution_count": 55,
   "id": "f321785a-ba67-4781-bd24-6d462ba1e9e3",
   "metadata": {
    "tags": []
   },
   "outputs": [
    {
     "data": {
      "text/html": [
       "<div>\n",
       "<style scoped>\n",
       "    .dataframe tbody tr th:only-of-type {\n",
       "        vertical-align: middle;\n",
       "    }\n",
       "\n",
       "    .dataframe tbody tr th {\n",
       "        vertical-align: top;\n",
       "    }\n",
       "\n",
       "    .dataframe thead th {\n",
       "        text-align: right;\n",
       "    }\n",
       "</style>\n",
       "<table border=\"1\" class=\"dataframe\">\n",
       "  <thead>\n",
       "    <tr style=\"text-align: right;\">\n",
       "      <th></th>\n",
       "      <th>Filed As</th>\n",
       "      <th>Status</th>\n",
       "      <th>CreatedOn</th>\n",
       "      <th>Source</th>\n",
       "      <th>Feedback Score</th>\n",
       "      <th>Country</th>\n",
       "      <th>Registration #</th>\n",
       "      <th>Registration Type</th>\n",
       "      <th>Employment Preference Attributes</th>\n",
       "      <th>Specialty</th>\n",
       "      <th>Seniority</th>\n",
       "      <th>Primary Consultant</th>\n",
       "      <th>FY24 Week</th>\n",
       "    </tr>\n",
       "  </thead>\n",
       "  <tbody>\n",
       "    <tr>\n",
       "      <th>1288</th>\n",
       "      <td>Jiz Mary Santhosh</td>\n",
       "      <td>Transitional</td>\n",
       "      <td>2023-10-25 12:24:00</td>\n",
       "      <td>Email</td>\n",
       "      <td>NaN</td>\n",
       "      <td>India</td>\n",
       "      <td>NaN</td>\n",
       "      <td>NaN</td>\n",
       "      <td>Permanent</td>\n",
       "      <td>Surgery - Ophthalmology</td>\n",
       "      <td>Consultant / Specialist</td>\n",
       "      <td>NaN</td>\n",
       "      <td>17</td>\n",
       "    </tr>\n",
       "    <tr>\n",
       "      <th>165</th>\n",
       "      <td>Mohammad Nasir Iqbal</td>\n",
       "      <td>Live</td>\n",
       "      <td>2023-07-14 12:43:00</td>\n",
       "      <td>Email</td>\n",
       "      <td>NaN</td>\n",
       "      <td>South Africa</td>\n",
       "      <td>NaN</td>\n",
       "      <td>NaN</td>\n",
       "      <td>Permanent</td>\n",
       "      <td>Surgery - Orthopaedics/TR</td>\n",
       "      <td>Consultant / Specialist</td>\n",
       "      <td>NaN</td>\n",
       "      <td>2</td>\n",
       "    </tr>\n",
       "    <tr>\n",
       "      <th>826</th>\n",
       "      <td>Susmita Shaha</td>\n",
       "      <td>Transitional</td>\n",
       "      <td>2023-09-24 18:10:00</td>\n",
       "      <td>Indeed</td>\n",
       "      <td>NaN</td>\n",
       "      <td>Australia</td>\n",
       "      <td>NaN</td>\n",
       "      <td>NaN</td>\n",
       "      <td>Locum</td>\n",
       "      <td>Emergency Medicine (A&amp;E)</td>\n",
       "      <td>Resident (RMO)</td>\n",
       "      <td>NaN</td>\n",
       "      <td>12</td>\n",
       "    </tr>\n",
       "    <tr>\n",
       "      <th>430</th>\n",
       "      <td>Opobo Joel</td>\n",
       "      <td>Ineligible</td>\n",
       "      <td>2023-08-14 05:15:00</td>\n",
       "      <td>Indeed</td>\n",
       "      <td>NaN</td>\n",
       "      <td>Uganda</td>\n",
       "      <td>NaN</td>\n",
       "      <td>NaN</td>\n",
       "      <td>Permanent</td>\n",
       "      <td>Surgery - Orthopaedics/TR, Surgery - Oral Maxi...</td>\n",
       "      <td>General Practitioner</td>\n",
       "      <td>NaN</td>\n",
       "      <td>7</td>\n",
       "    </tr>\n",
       "    <tr>\n",
       "      <th>113</th>\n",
       "      <td>Abinaya Murali</td>\n",
       "      <td>Live</td>\n",
       "      <td>2023-07-10 23:15:00</td>\n",
       "      <td>Paid Google</td>\n",
       "      <td>NaN</td>\n",
       "      <td>United Kingdom</td>\n",
       "      <td>NaN</td>\n",
       "      <td>NaN</td>\n",
       "      <td>Permanent</td>\n",
       "      <td>Obstetrics &amp; Gynaecology</td>\n",
       "      <td>Registrar, Resident (RMO), SMO</td>\n",
       "      <td>NaN</td>\n",
       "      <td>2</td>\n",
       "    </tr>\n",
       "  </tbody>\n",
       "</table>\n",
       "</div>"
      ],
      "text/plain": [
       "                  Filed As        Status           CreatedOn       Source  \\\n",
       "1288     Jiz Mary Santhosh  Transitional 2023-10-25 12:24:00        Email   \n",
       "165   Mohammad Nasir Iqbal          Live 2023-07-14 12:43:00        Email   \n",
       "826          Susmita Shaha  Transitional 2023-09-24 18:10:00       Indeed   \n",
       "430             Opobo Joel    Ineligible 2023-08-14 05:15:00       Indeed   \n",
       "113         Abinaya Murali          Live 2023-07-10 23:15:00  Paid Google   \n",
       "\n",
       "      Feedback Score         Country Registration # Registration Type  \\\n",
       "1288             NaN           India            NaN               NaN   \n",
       "165              NaN    South Africa            NaN               NaN   \n",
       "826              NaN       Australia            NaN               NaN   \n",
       "430              NaN          Uganda            NaN               NaN   \n",
       "113              NaN  United Kingdom            NaN               NaN   \n",
       "\n",
       "     Employment Preference Attributes  \\\n",
       "1288                        Permanent   \n",
       "165                         Permanent   \n",
       "826                             Locum   \n",
       "430                         Permanent   \n",
       "113                         Permanent   \n",
       "\n",
       "                                              Specialty  \\\n",
       "1288                            Surgery - Ophthalmology   \n",
       "165                           Surgery - Orthopaedics/TR   \n",
       "826                            Emergency Medicine (A&E)   \n",
       "430   Surgery - Orthopaedics/TR, Surgery - Oral Maxi...   \n",
       "113                            Obstetrics & Gynaecology   \n",
       "\n",
       "                           Seniority Primary Consultant  FY24 Week  \n",
       "1288         Consultant / Specialist                NaN         17  \n",
       "165          Consultant / Specialist                NaN          2  \n",
       "826                   Resident (RMO)                NaN         12  \n",
       "430             General Practitioner                NaN          7  \n",
       "113   Registrar, Resident (RMO), SMO                NaN          2  "
      ]
     },
     "execution_count": 55,
     "metadata": {},
     "output_type": "execute_result"
    }
   ],
   "source": [
    "df.sample(5)"
   ]
  },
  {
   "cell_type": "markdown",
   "metadata": {},
   "source": [
    "## Map Team Allocated"
   ]
  },
  {
   "cell_type": "code",
   "execution_count": 56,
   "id": "e56c4ded-0cb5-4e9d-a8f6-de1436aa8bd1",
   "metadata": {
    "tags": []
   },
   "outputs": [],
   "source": [
    "# Create a dictionary to map 'Primary Consultant' to 'team allocated'\n",
    "team_mapping = {\n",
    "    'Tahnee Love': 'JLD',\n",
    "    'Craig Picard': 'JLD',\n",
    "    'Ben Chegwidden': 'JLD',\n",
    "    'Fiona Jackson': 'JLD',\n",
    "    'Aimee Skoyles': 'JLD',\n",
    "    'Mikaila Brooks': 'JLD',\n",
    "    'Robyn Pascoe': 'Psych',\n",
    "    'Courtney Lewis': 'Psych',\n",
    "    'Yasmin Lockey': 'Psych',\n",
    "    'Caitlin Lingard': 'HS Perm',\n",
    "    'Jennifer Salinas': 'HS Perm',\n",
    "    'Ashlea Harvey': 'HS Perm',\n",
    "    'Chloe Frost': 'HS Perm',\n",
    "    'EJ Cuaresma': 'GP Perm',\n",
    "    'Jane Stanke': 'GP Perm',\n",
    "    'Amber Derby-Davies': 'HS Locum',\n",
    "    'Jade Camilleri': 'HS Locum',\n",
    "    'Claudine Zaarour': 'HS Locum',\n",
    "    'Hannah Kearns': 'HS Locum',\n",
    "    'Eamon McCurry': 'HS Locum',\n",
    "    'Nicole Langan': 'HS Locum',\n",
    "    'Amy Beddall': 'GP Locum',\n",
    "    'Cory Robertson': 'GP Locum',\n",
    "    'Charlotte Hellmundt': 'GP Locum',\n",
    "    'Anna Mullins': 'GP Locum',\n",
    "    'Jade-Maree Camilleri': 'HS Locum',\n",
    "    'Xanthia Gardner': 'HS Perm',\n",
    "    'Charlie Hellmundt': 'GP Locum',\n",
    "    'Paul Campbell': 'GP Locum',\n",
    "    'Sharlina Drutschmann': 'GP Locum',\n",
    "}\n",
    "\n",
    "# Create the 'team allocated' column based on 'Primary Consultant' using the mapping dictionary\n",
    "df['Team Allocated'] = df['Primary Consultant'].map(team_mapping)\n"
   ]
  },
  {
   "cell_type": "code",
   "execution_count": 57,
   "id": "15dd48a8-2f29-41ef-8362-f81d59375836",
   "metadata": {
    "tags": []
   },
   "outputs": [
    {
     "name": "stdout",
     "output_type": "stream",
     "text": [
      "<class 'pandas.core.frame.DataFrame'>\n",
      "Index: 1489 entries, 5 to 1620\n",
      "Data columns (total 14 columns):\n",
      " #   Column                            Non-Null Count  Dtype         \n",
      "---  ------                            --------------  -----         \n",
      " 0   Filed As                          1489 non-null   object        \n",
      " 1   Status                            1489 non-null   object        \n",
      " 2   CreatedOn                         1489 non-null   datetime64[ns]\n",
      " 3   Source                            1489 non-null   object        \n",
      " 4   Feedback Score                    0 non-null      float64       \n",
      " 5   Country                           1489 non-null   object        \n",
      " 6   Registration #                    322 non-null    object        \n",
      " 7   Registration Type                 319 non-null    object        \n",
      " 8   Employment Preference Attributes  1489 non-null   object        \n",
      " 9   Specialty                         1489 non-null   object        \n",
      " 10  Seniority                         1489 non-null   object        \n",
      " 11  Primary Consultant                193 non-null    object        \n",
      " 12  FY24 Week                         1489 non-null   int64         \n",
      " 13  Team Allocated                    191 non-null    object        \n",
      "dtypes: datetime64[ns](1), float64(1), int64(1), object(11)\n",
      "memory usage: 174.5+ KB\n"
     ]
    }
   ],
   "source": [
    "df.info()"
   ]
  },
  {
   "cell_type": "code",
   "execution_count": 58,
   "id": "a44e16e4-1974-4402-8cbc-ab714b00f96a",
   "metadata": {
    "tags": []
   },
   "outputs": [
    {
     "name": "stdout",
     "output_type": "stream",
     "text": [
      "['Carole Paterson' 'Wave Info']\n"
     ]
    }
   ],
   "source": [
    "# Filter for unmapped rows (where 'Primary Consultant' is not null and 'Team Allocated' is missing)\n",
    "unmapped_rows = df[df['Primary Consultant'].notna() & df['Team Allocated'].isna()]\n",
    "\n",
    "# Get the unique values of 'Primary Consultant' for unmapped rows\n",
    "unique_primary_consultants = unmapped_rows['Primary Consultant'].unique()\n",
    "\n",
    "# Display the unique values\n",
    "print(unique_primary_consultants)"
   ]
  },
  {
   "cell_type": "code",
   "execution_count": 59,
   "id": "eae4914a-9dda-4133-9cbb-066d10432c2e",
   "metadata": {},
   "outputs": [],
   "source": [
    "# Non-Australia - Assign 'HS Perm' or 'GP Perm' based on specified conditions\n",
    "non_australia = (df['Country'] != 'Australia')\n",
    "\n",
    "# Check if neither 'Specialty' nor 'Seniority' contains 'GP' related phrases\n",
    "hs_perm_conditions = (\n",
    "    non_australia &\n",
    "    ~(\n",
    "        (df['Specialty'].str.contains('GP|General Practice|General Practitioner', case=False)) | \n",
    "        (df['Seniority'].str.contains('GP|General Practice|General Practitioner', case=False))\n",
    "    )\n",
    ")\n",
    "\n",
    "# Update 'HS Perm' for null 'Team Allocated' where the conditions are met\n",
    "df.loc[hs_perm_conditions & df['Team Allocated'].isnull(), 'Team Allocated'] = 'HS Perm'\n",
    "\n",
    "# Check for 'GP Perm' based on the same conditions\n",
    "gp_perm_conditions = (\n",
    "    non_australia &\n",
    "    (\n",
    "        (df['Specialty'].str.contains('GP|General Practice|General Practitioner', case=False)) | \n",
    "        (df['Seniority'].str.contains('GP|General Practice|General Practitioner', case=False))\n",
    "    )\n",
    ")\n",
    "\n",
    "# Update 'GP Perm' for null 'Team Allocated' based on specified conditions\n",
    "df.loc[gp_perm_conditions & df['Team Allocated'].isnull(), 'Team Allocated'] = 'GP Perm'\n"
   ]
  },
  {
   "cell_type": "code",
   "execution_count": 60,
   "id": "079cb958-e695-4127-b189-f69aaa4b70c5",
   "metadata": {
    "tags": []
   },
   "outputs": [
    {
     "name": "stdout",
     "output_type": "stream",
     "text": [
      "<class 'pandas.core.frame.DataFrame'>\n",
      "Index: 1489 entries, 5 to 1620\n",
      "Data columns (total 14 columns):\n",
      " #   Column                            Non-Null Count  Dtype         \n",
      "---  ------                            --------------  -----         \n",
      " 0   Filed As                          1489 non-null   object        \n",
      " 1   Status                            1489 non-null   object        \n",
      " 2   CreatedOn                         1489 non-null   datetime64[ns]\n",
      " 3   Source                            1489 non-null   object        \n",
      " 4   Feedback Score                    0 non-null      float64       \n",
      " 5   Country                           1489 non-null   object        \n",
      " 6   Registration #                    322 non-null    object        \n",
      " 7   Registration Type                 319 non-null    object        \n",
      " 8   Employment Preference Attributes  1489 non-null   object        \n",
      " 9   Specialty                         1489 non-null   object        \n",
      " 10  Seniority                         1489 non-null   object        \n",
      " 11  Primary Consultant                193 non-null    object        \n",
      " 12  FY24 Week                         1489 non-null   int64         \n",
      " 13  Team Allocated                    929 non-null    object        \n",
      "dtypes: datetime64[ns](1), float64(1), int64(1), object(11)\n",
      "memory usage: 174.5+ KB\n"
     ]
    }
   ],
   "source": [
    "df.info()"
   ]
  },
  {
   "cell_type": "code",
   "execution_count": 61,
   "id": "5c0819c5-22e0-4177-91c3-59b3c9a0374f",
   "metadata": {
    "tags": []
   },
   "outputs": [],
   "source": [
    "#Psych\n",
    "psych_conditions = (\n",
    "    (df['Country'] == 'Australia') &\n",
    "    (df['Specialty'].str.startswith('Psych')) &\n",
    "    (df['Team Allocated'].isnull())\n",
    ")\n",
    "\n",
    "# Set 'Psych' for 'Team Allocated' if conditions are met\n",
    "df.loc[psych_conditions, 'Team Allocated'] = 'Psych'"
   ]
  },
  {
   "cell_type": "code",
   "execution_count": 62,
   "id": "3898652e-3e1f-4b3e-9ffc-b89dba18906a",
   "metadata": {
    "tags": []
   },
   "outputs": [
    {
     "name": "stdout",
     "output_type": "stream",
     "text": [
      "<class 'pandas.core.frame.DataFrame'>\n",
      "Index: 1489 entries, 5 to 1620\n",
      "Data columns (total 14 columns):\n",
      " #   Column                            Non-Null Count  Dtype         \n",
      "---  ------                            --------------  -----         \n",
      " 0   Filed As                          1489 non-null   object        \n",
      " 1   Status                            1489 non-null   object        \n",
      " 2   CreatedOn                         1489 non-null   datetime64[ns]\n",
      " 3   Source                            1489 non-null   object        \n",
      " 4   Feedback Score                    0 non-null      float64       \n",
      " 5   Country                           1489 non-null   object        \n",
      " 6   Registration #                    322 non-null    object        \n",
      " 7   Registration Type                 319 non-null    object        \n",
      " 8   Employment Preference Attributes  1489 non-null   object        \n",
      " 9   Specialty                         1489 non-null   object        \n",
      " 10  Seniority                         1489 non-null   object        \n",
      " 11  Primary Consultant                193 non-null    object        \n",
      " 12  FY24 Week                         1489 non-null   int64         \n",
      " 13  Team Allocated                    945 non-null    object        \n",
      "dtypes: datetime64[ns](1), float64(1), int64(1), object(11)\n",
      "memory usage: 174.5+ KB\n"
     ]
    }
   ],
   "source": [
    "df.info()"
   ]
  },
  {
   "cell_type": "code",
   "execution_count": 63,
   "id": "354c28c3-852c-40f8-b942-04f9dfa1742f",
   "metadata": {
    "tags": []
   },
   "outputs": [],
   "source": [
    "#Australia Perm\n",
    "employment_conditions = (\n",
    "    (df['Country'] == 'Australia') &\n",
    "    (~df['Employment Preference Attributes'].str.contains('Locum', case=False))\n",
    ")\n",
    "\n",
    "gp_perm_conditions = (\n",
    "    employment_conditions &\n",
    "    (\n",
    "        (df['Specialty'].str.contains('GP|General Practice|General Practitioner', case=False)) | \n",
    "        (df['Seniority'].str.contains('GP|General Practice|General Practitioner', case=False))\n",
    "    )\n",
    ")\n",
    "\n",
    "# Set 'GP Perm' for 'Team Allocated' based on conditions\n",
    "df.loc[gp_perm_conditions & df['Team Allocated'].isnull(), 'Team Allocated'] = 'GP Perm'\n",
    "\n",
    "# Set 'HS Perm' for remaining null 'Team Allocated' based on conditions\n",
    "df.loc[employment_conditions & df['Team Allocated'].isnull(), 'Team Allocated'] = 'HS Perm'"
   ]
  },
  {
   "cell_type": "code",
   "execution_count": 64,
   "id": "b8b11ebb-81aa-4a28-9ef0-c09a57fea98c",
   "metadata": {
    "tags": []
   },
   "outputs": [
    {
     "name": "stdout",
     "output_type": "stream",
     "text": [
      "<class 'pandas.core.frame.DataFrame'>\n",
      "Index: 1489 entries, 5 to 1620\n",
      "Data columns (total 14 columns):\n",
      " #   Column                            Non-Null Count  Dtype         \n",
      "---  ------                            --------------  -----         \n",
      " 0   Filed As                          1489 non-null   object        \n",
      " 1   Status                            1489 non-null   object        \n",
      " 2   CreatedOn                         1489 non-null   datetime64[ns]\n",
      " 3   Source                            1489 non-null   object        \n",
      " 4   Feedback Score                    0 non-null      float64       \n",
      " 5   Country                           1489 non-null   object        \n",
      " 6   Registration #                    322 non-null    object        \n",
      " 7   Registration Type                 319 non-null    object        \n",
      " 8   Employment Preference Attributes  1489 non-null   object        \n",
      " 9   Specialty                         1489 non-null   object        \n",
      " 10  Seniority                         1489 non-null   object        \n",
      " 11  Primary Consultant                193 non-null    object        \n",
      " 12  FY24 Week                         1489 non-null   int64         \n",
      " 13  Team Allocated                    1156 non-null   object        \n",
      "dtypes: datetime64[ns](1), float64(1), int64(1), object(11)\n",
      "memory usage: 174.5+ KB\n"
     ]
    }
   ],
   "source": [
    "df.info()"
   ]
  },
  {
   "cell_type": "code",
   "execution_count": 65,
   "id": "f6611b0d-0ad3-4dc1-82fd-8a80c92af8ed",
   "metadata": {
    "tags": []
   },
   "outputs": [],
   "source": [
    "#Junior\n",
    "jld_conditions = (\n",
    "    df['Team Allocated'].isnull() &\n",
    "    df['Seniority'].str.contains('resident|registrar|cmo / smo|intern|student', case=False)\n",
    ")\n",
    "\n",
    "# Set 'JLD' for 'Team Allocated' where conditions are met\n",
    "df.loc[jld_conditions, 'Team Allocated'] = 'JLD'"
   ]
  },
  {
   "cell_type": "code",
   "execution_count": 66,
   "id": "4bb3d1fd-0292-4589-b09c-fefb0f04eb43",
   "metadata": {
    "tags": []
   },
   "outputs": [
    {
     "name": "stdout",
     "output_type": "stream",
     "text": [
      "<class 'pandas.core.frame.DataFrame'>\n",
      "Index: 1489 entries, 5 to 1620\n",
      "Data columns (total 14 columns):\n",
      " #   Column                            Non-Null Count  Dtype         \n",
      "---  ------                            --------------  -----         \n",
      " 0   Filed As                          1489 non-null   object        \n",
      " 1   Status                            1489 non-null   object        \n",
      " 2   CreatedOn                         1489 non-null   datetime64[ns]\n",
      " 3   Source                            1489 non-null   object        \n",
      " 4   Feedback Score                    0 non-null      float64       \n",
      " 5   Country                           1489 non-null   object        \n",
      " 6   Registration #                    322 non-null    object        \n",
      " 7   Registration Type                 319 non-null    object        \n",
      " 8   Employment Preference Attributes  1489 non-null   object        \n",
      " 9   Specialty                         1489 non-null   object        \n",
      " 10  Seniority                         1489 non-null   object        \n",
      " 11  Primary Consultant                193 non-null    object        \n",
      " 12  FY24 Week                         1489 non-null   int64         \n",
      " 13  Team Allocated                    1341 non-null   object        \n",
      "dtypes: datetime64[ns](1), float64(1), int64(1), object(11)\n",
      "memory usage: 174.5+ KB\n"
     ]
    }
   ],
   "source": [
    "df.info()"
   ]
  },
  {
   "cell_type": "code",
   "execution_count": 67,
   "id": "f7f3bfad-1aee-4b0e-be7e-3e0253bf1fbb",
   "metadata": {
    "tags": []
   },
   "outputs": [],
   "source": [
    "#Australia Locum\n",
    "# Check if either 'Specialty' or 'Seniority' contains GP-related phrases\n",
    "gp_locum_conditions = (\n",
    "    (df['Team Allocated'].isnull()) &\n",
    "    (df['Specialty'].str.contains('GP|General Practitioner|General Practice', case=False) |\n",
    "    df['Seniority'].str.contains('GP|General Practitioner|General Practice', case=False))\n",
    ")\n",
    "\n",
    "# Set 'GP Locum' for rows with null 'Team Allocated' based on the specified conditions\n",
    "df.loc[gp_locum_conditions, 'Team Allocated'] = 'GP Locum'\n",
    "\n",
    "# Set 'HS Locum' for the remaining null 'Team Allocated' rows that don't meet the GP conditions\n",
    "df.loc[df['Team Allocated'].isnull(), 'Team Allocated'] = 'HS Locum'"
   ]
  },
  {
   "cell_type": "code",
   "execution_count": 68,
   "id": "2b7442dd-40ce-4f60-935b-b8fffe541544",
   "metadata": {
    "tags": []
   },
   "outputs": [
    {
     "name": "stdout",
     "output_type": "stream",
     "text": [
      "<class 'pandas.core.frame.DataFrame'>\n",
      "Index: 1489 entries, 5 to 1620\n",
      "Data columns (total 14 columns):\n",
      " #   Column                            Non-Null Count  Dtype         \n",
      "---  ------                            --------------  -----         \n",
      " 0   Filed As                          1489 non-null   object        \n",
      " 1   Status                            1489 non-null   object        \n",
      " 2   CreatedOn                         1489 non-null   datetime64[ns]\n",
      " 3   Source                            1489 non-null   object        \n",
      " 4   Feedback Score                    0 non-null      float64       \n",
      " 5   Country                           1489 non-null   object        \n",
      " 6   Registration #                    322 non-null    object        \n",
      " 7   Registration Type                 319 non-null    object        \n",
      " 8   Employment Preference Attributes  1489 non-null   object        \n",
      " 9   Specialty                         1489 non-null   object        \n",
      " 10  Seniority                         1489 non-null   object        \n",
      " 11  Primary Consultant                193 non-null    object        \n",
      " 12  FY24 Week                         1489 non-null   int64         \n",
      " 13  Team Allocated                    1489 non-null   object        \n",
      "dtypes: datetime64[ns](1), float64(1), int64(1), object(11)\n",
      "memory usage: 174.5+ KB\n"
     ]
    }
   ],
   "source": [
    "df.info()"
   ]
  },
  {
   "cell_type": "code",
   "execution_count": 69,
   "id": "2d2d1211-12d8-4b7a-bc3c-329471b9aff4",
   "metadata": {
    "tags": []
   },
   "outputs": [],
   "source": [
    "#diveregent  careers/ executives\n",
    "# Condition to check Seniority and Country\n",
    "seniority_conditions = (\n",
    "    (df['Seniority'].str.contains('Director|DMS|Health Executive|Divergent Careers|Allied Health|Medical Admin|Scientist', case=False, na=False)) &\n",
    "    (df['Country'] == 'Australia')\n",
    ")\n",
    "\n",
    "# Update 'HS Perm' for the specified conditions\n",
    "df.loc[seniority_conditions, 'Team Allocated'] = 'HS Perm'"
   ]
  },
  {
   "cell_type": "code",
   "execution_count": 70,
   "id": "b91dbf00-687d-44e9-abae-74d3aae4888d",
   "metadata": {
    "tags": []
   },
   "outputs": [
    {
     "name": "stdout",
     "output_type": "stream",
     "text": [
      "<class 'pandas.core.frame.DataFrame'>\n",
      "Index: 1489 entries, 5 to 1620\n",
      "Data columns (total 14 columns):\n",
      " #   Column                            Non-Null Count  Dtype         \n",
      "---  ------                            --------------  -----         \n",
      " 0   Filed As                          1489 non-null   object        \n",
      " 1   Status                            1489 non-null   object        \n",
      " 2   CreatedOn                         1489 non-null   datetime64[ns]\n",
      " 3   Source                            1489 non-null   object        \n",
      " 4   Feedback Score                    0 non-null      float64       \n",
      " 5   Country                           1489 non-null   object        \n",
      " 6   Registration #                    322 non-null    object        \n",
      " 7   Registration Type                 319 non-null    object        \n",
      " 8   Employment Preference Attributes  1489 non-null   object        \n",
      " 9   Specialty                         1489 non-null   object        \n",
      " 10  Seniority                         1489 non-null   object        \n",
      " 11  Primary Consultant                193 non-null    object        \n",
      " 12  FY24 Week                         1489 non-null   int64         \n",
      " 13  Team Allocated                    1489 non-null   object        \n",
      "dtypes: datetime64[ns](1), float64(1), int64(1), object(11)\n",
      "memory usage: 174.5+ KB\n"
     ]
    }
   ],
   "source": [
    "df.info()"
   ]
  },
  {
   "cell_type": "code",
   "execution_count": 71,
   "metadata": {},
   "outputs": [
    {
     "name": "stdout",
     "output_type": "stream",
     "text": [
      "Team Allocated\n",
      "HS Perm    50\n",
      "GP Perm    15\n",
      "Name: count, dtype: int64\n"
     ]
    }
   ],
   "source": [
    "# Check for the specified condition\n",
    "condition = (df['Seniority'].str.contains('Director|DMS|Health Executive|Divergent Careers|Allied Health|Medical Admin|Scientist', case=False, na=False))\n",
    "\n",
    "# Get value counts for 'Team Allocated' for rows that satisfy the condition\n",
    "team_allocated_counts = df.loc[condition, 'Team Allocated'].value_counts()\n",
    "\n",
    "# Print the value counts\n",
    "print(team_allocated_counts)"
   ]
  },
  {
   "cell_type": "code",
   "execution_count": 72,
   "metadata": {},
   "outputs": [
    {
     "data": {
      "text/html": [
       "<div>\n",
       "<style scoped>\n",
       "    .dataframe tbody tr th:only-of-type {\n",
       "        vertical-align: middle;\n",
       "    }\n",
       "\n",
       "    .dataframe tbody tr th {\n",
       "        vertical-align: top;\n",
       "    }\n",
       "\n",
       "    .dataframe thead th {\n",
       "        text-align: right;\n",
       "    }\n",
       "</style>\n",
       "<table border=\"1\" class=\"dataframe\">\n",
       "  <thead>\n",
       "    <tr style=\"text-align: right;\">\n",
       "      <th></th>\n",
       "      <th>Filed As</th>\n",
       "      <th>Status</th>\n",
       "      <th>CreatedOn</th>\n",
       "      <th>Source</th>\n",
       "      <th>Feedback Score</th>\n",
       "      <th>Country</th>\n",
       "      <th>Registration #</th>\n",
       "      <th>Registration Type</th>\n",
       "      <th>Employment Preference Attributes</th>\n",
       "      <th>Specialty</th>\n",
       "      <th>Seniority</th>\n",
       "      <th>Primary Consultant</th>\n",
       "      <th>FY24 Week</th>\n",
       "      <th>Team Allocated</th>\n",
       "    </tr>\n",
       "  </thead>\n",
       "  <tbody>\n",
       "    <tr>\n",
       "      <th>10</th>\n",
       "      <td>Abdulrasheed Oluwatoyin</td>\n",
       "      <td>New Lead</td>\n",
       "      <td>2023-11-12 03:40:00</td>\n",
       "      <td>Indeed</td>\n",
       "      <td>NaN</td>\n",
       "      <td>Nigeria</td>\n",
       "      <td>NaN</td>\n",
       "      <td>NaN</td>\n",
       "      <td>Permanent</td>\n",
       "      <td>Intensive Care (ICU), GP Emergency, Emergency ...</td>\n",
       "      <td>Divergent Careers, General Practitioner</td>\n",
       "      <td>NaN</td>\n",
       "      <td>19</td>\n",
       "      <td>GP Perm</td>\n",
       "    </tr>\n",
       "    <tr>\n",
       "      <th>91</th>\n",
       "      <td>BARKAT NOONARI</td>\n",
       "      <td>Ineligible</td>\n",
       "      <td>2023-07-09 00:47:00</td>\n",
       "      <td>Word of Mouth</td>\n",
       "      <td>NaN</td>\n",
       "      <td>Saudi Arabia</td>\n",
       "      <td>NaN</td>\n",
       "      <td>NaN</td>\n",
       "      <td>Permanent</td>\n",
       "      <td>Public Health, GP Emergency, GP AMS, Emergency...</td>\n",
       "      <td>Resident (RMO), Deputy Director of Medical Ser...</td>\n",
       "      <td>NaN</td>\n",
       "      <td>1</td>\n",
       "      <td>GP Perm</td>\n",
       "    </tr>\n",
       "    <tr>\n",
       "      <th>259</th>\n",
       "      <td>DWARIKA PRASAD</td>\n",
       "      <td>Ineligible</td>\n",
       "      <td>2023-07-24 14:10:00</td>\n",
       "      <td>Indeed</td>\n",
       "      <td>NaN</td>\n",
       "      <td>India</td>\n",
       "      <td>NaN</td>\n",
       "      <td>NaN</td>\n",
       "      <td>Permanent</td>\n",
       "      <td>GP Emergency, GP Sexual Health, Emergency Medi...</td>\n",
       "      <td>Health Executive, Medical Admin Registrar, Gen...</td>\n",
       "      <td>NaN</td>\n",
       "      <td>4</td>\n",
       "      <td>GP Perm</td>\n",
       "    </tr>\n",
       "    <tr>\n",
       "      <th>497</th>\n",
       "      <td>Lawal Tawakalitu</td>\n",
       "      <td>Ineligible</td>\n",
       "      <td>2023-08-20 23:25:00</td>\n",
       "      <td>Indeed</td>\n",
       "      <td>NaN</td>\n",
       "      <td>Nigeria</td>\n",
       "      <td>NaN</td>\n",
       "      <td>NaN</td>\n",
       "      <td>Permanent, Telehealth</td>\n",
       "      <td>Public Health, GP Skin, General Practice</td>\n",
       "      <td>Health Executive, General Practitioner</td>\n",
       "      <td>NaN</td>\n",
       "      <td>7</td>\n",
       "      <td>GP Perm</td>\n",
       "    </tr>\n",
       "    <tr>\n",
       "      <th>671</th>\n",
       "      <td>Medical doctor</td>\n",
       "      <td>Ineligible</td>\n",
       "      <td>2023-09-07 18:43:00</td>\n",
       "      <td>ACEM Website</td>\n",
       "      <td>NaN</td>\n",
       "      <td>Iraq</td>\n",
       "      <td>NaN</td>\n",
       "      <td>NaN</td>\n",
       "      <td>Permanent, Telehealth</td>\n",
       "      <td>General Practice</td>\n",
       "      <td>Divergent Careers, General Practitioner, Consu...</td>\n",
       "      <td>NaN</td>\n",
       "      <td>10</td>\n",
       "      <td>GP Perm</td>\n",
       "    </tr>\n",
       "  </tbody>\n",
       "</table>\n",
       "</div>"
      ],
      "text/plain": [
       "                    Filed As      Status           CreatedOn         Source  \\\n",
       "10   Abdulrasheed Oluwatoyin    New Lead 2023-11-12 03:40:00         Indeed   \n",
       "91            BARKAT NOONARI  Ineligible 2023-07-09 00:47:00  Word of Mouth   \n",
       "259           DWARIKA PRASAD  Ineligible 2023-07-24 14:10:00         Indeed   \n",
       "497         Lawal Tawakalitu  Ineligible 2023-08-20 23:25:00         Indeed   \n",
       "671           Medical doctor  Ineligible 2023-09-07 18:43:00   ACEM Website   \n",
       "\n",
       "     Feedback Score       Country Registration # Registration Type  \\\n",
       "10              NaN       Nigeria            NaN               NaN   \n",
       "91              NaN  Saudi Arabia            NaN               NaN   \n",
       "259             NaN         India            NaN               NaN   \n",
       "497             NaN       Nigeria            NaN               NaN   \n",
       "671             NaN          Iraq            NaN               NaN   \n",
       "\n",
       "    Employment Preference Attributes  \\\n",
       "10                         Permanent   \n",
       "91                         Permanent   \n",
       "259                        Permanent   \n",
       "497            Permanent, Telehealth   \n",
       "671            Permanent, Telehealth   \n",
       "\n",
       "                                             Specialty  \\\n",
       "10   Intensive Care (ICU), GP Emergency, Emergency ...   \n",
       "91   Public Health, GP Emergency, GP AMS, Emergency...   \n",
       "259  GP Emergency, GP Sexual Health, Emergency Medi...   \n",
       "497           Public Health, GP Skin, General Practice   \n",
       "671                                   General Practice   \n",
       "\n",
       "                                             Seniority Primary Consultant  \\\n",
       "10             Divergent Careers, General Practitioner                NaN   \n",
       "91   Resident (RMO), Deputy Director of Medical Ser...                NaN   \n",
       "259  Health Executive, Medical Admin Registrar, Gen...                NaN   \n",
       "497             Health Executive, General Practitioner                NaN   \n",
       "671  Divergent Careers, General Practitioner, Consu...                NaN   \n",
       "\n",
       "     FY24 Week Team Allocated  \n",
       "10          19        GP Perm  \n",
       "91           1        GP Perm  \n",
       "259          4        GP Perm  \n",
       "497          7        GP Perm  \n",
       "671         10        GP Perm  "
      ]
     },
     "execution_count": 72,
     "metadata": {},
     "output_type": "execute_result"
    }
   ],
   "source": [
    "seniority_condition = df['Seniority'].str.contains('Director|DMS|Health Executive|Divergent Careers|Allied Health|Medical Admin|Scientist', case=False, na=False)\n",
    "gp_perm_condition = df['Team Allocated'] == 'GP Perm'\n",
    "\n",
    "filtered_df = df[seniority_condition & gp_perm_condition]\n",
    "\n",
    "# Display relevant columns\n",
    "filtered_df.head()"
   ]
  },
  {
   "cell_type": "markdown",
   "metadata": {},
   "source": [
    "## Save File"
   ]
  },
  {
   "cell_type": "code",
   "execution_count": 73,
   "id": "dc0924ea-236c-46da-86e6-37bbc3601db3",
   "metadata": {
    "tags": []
   },
   "outputs": [],
   "source": [
    "# Get the current date\n",
    "current_date = datetime.datetime.now()\n",
    "\n",
    "# Calculate the date of the previous Sunday\n",
    "previous_sunday = current_date - timedelta(days=current_date.weekday() + 1)\n",
    "\n",
    "# Format the date in the desired format (YYYYMMDD)\n",
    "previous_sunday_str = previous_sunday.strftime(\"%Y%m%d\")\n",
    "\n",
    "# Create a folder if it doesn't exist\n",
    "folder_name = 'cleaned_new_leads'\n",
    "if not os.path.exists(folder_name):\n",
    "    os.makedirs(folder_name)\n",
    "\n",
    "# Construct the file path with the folder and the previous Sunday's date\n",
    "file_path = os.path.join(folder_name, f'newleads_cleaned_{previous_sunday_str}.csv')\n",
    "\n",
    "# Export DataFrame to a CSV file\n",
    "df.to_csv(file_path, index=False, encoding=result['encoding'])"
   ]
  },
  {
   "cell_type": "code",
   "execution_count": null,
   "id": "18d9d7af-a174-44d3-a680-eda7ca840346",
   "metadata": {},
   "outputs": [],
   "source": []
  }
 ],
 "metadata": {
  "kernelspec": {
   "display_name": "Python 3 (ipykernel)",
   "language": "python",
   "name": "python3"
  },
  "language_info": {
   "codemirror_mode": {
    "name": "ipython",
    "version": 3
   },
   "file_extension": ".py",
   "mimetype": "text/x-python",
   "name": "python",
   "nbconvert_exporter": "python",
   "pygments_lexer": "ipython3",
   "version": "3.11.6"
  }
 },
 "nbformat": 4,
 "nbformat_minor": 5
}
